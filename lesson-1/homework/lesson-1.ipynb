{
 "cells": [
  {
   "cell_type": "code",
   "execution_count": 1,
   "id": "69b817cc",
   "metadata": {},
   "outputs": [],
   "source": [
    "side = float(input(\"Enter the side length of the square: \"))"
   ]
  },
  {
   "cell_type": "code",
   "execution_count": 2,
   "id": "f67a5fb6",
   "metadata": {},
   "outputs": [],
   "source": [
    "perimeter = 4 * side\n"
   ]
  },
  {
   "cell_type": "code",
   "execution_count": 3,
   "id": "b61274ce",
   "metadata": {},
   "outputs": [],
   "source": [
    "area = side * side\n"
   ]
  },
  {
   "cell_type": "code",
   "execution_count": 4,
   "id": "6a6e2424",
   "metadata": {},
   "outputs": [
    {
     "name": "stdout",
     "output_type": "stream",
     "text": [
      "Perimeter of the square: 20.0\n",
      "Area of the square: 25.0\n"
     ]
    }
   ],
   "source": [
    "print(f\"Perimeter of the square: {perimeter}\")\n",
    "print(f\"Area of the square: {area}\")"
   ]
  },
  {
   "cell_type": "code",
   "execution_count": 5,
   "id": "5988c753",
   "metadata": {},
   "outputs": [],
   "source": [
    "import math\n"
   ]
  },
  {
   "cell_type": "code",
   "execution_count": 6,
   "id": "ed0ddf0a",
   "metadata": {},
   "outputs": [],
   "source": [
    "diameter = float(input(\"Enter the diameter of the circle: \"))\n"
   ]
  },
  {
   "cell_type": "code",
   "execution_count": 7,
   "id": "64c61981",
   "metadata": {},
   "outputs": [],
   "source": [
    "circumference = math.pi * diameter\n"
   ]
  },
  {
   "cell_type": "code",
   "execution_count": 8,
   "id": "0a91ad05",
   "metadata": {},
   "outputs": [
    {
     "name": "stdout",
     "output_type": "stream",
     "text": [
      "Circumference (length) of the circle: 15.707963267948966\n"
     ]
    }
   ],
   "source": [
    "print(f\"Circumference (length) of the circle: {circumference}\")\n"
   ]
  },
  {
   "cell_type": "code",
   "execution_count": 9,
   "id": "00cc13e3",
   "metadata": {},
   "outputs": [],
   "source": [
    "a = float(input(\"Enter the first number (a): \"))\n",
    "b = float(input(\"Enter the second number (b): \"))\n"
   ]
  },
  {
   "cell_type": "code",
   "execution_count": 10,
   "id": "e6f827b0",
   "metadata": {},
   "outputs": [],
   "source": [
    "mean = (a + b) / 2\n"
   ]
  },
  {
   "cell_type": "code",
   "execution_count": 11,
   "id": "3f28719f",
   "metadata": {},
   "outputs": [
    {
     "name": "stdout",
     "output_type": "stream",
     "text": [
      "The mean of 5.0 and 6.0 is: 5.5\n"
     ]
    }
   ],
   "source": [
    "print(f\"The mean of {a} and {b} is: {mean}\")\n"
   ]
  },
  {
   "cell_type": "code",
   "execution_count": 12,
   "id": "e00066db",
   "metadata": {},
   "outputs": [],
   "source": [
    "a = float(input(\"Enter the first number (a): \"))\n",
    "b = float(input(\"Enter the second number (b): \"))"
   ]
  },
  {
   "cell_type": "code",
   "execution_count": 13,
   "id": "a5b03a51",
   "metadata": {},
   "outputs": [],
   "source": [
    "sum_ab = a + b\n",
    "product_ab = a * b\n",
    "square_a = a ** 2\n",
    "square_b = b ** 2"
   ]
  },
  {
   "cell_type": "code",
   "execution_count": 14,
   "id": "b94a51ab",
   "metadata": {},
   "outputs": [
    {
     "name": "stdout",
     "output_type": "stream",
     "text": [
      "Sum of 5.0 and 6.0: 11.0\n",
      "Product of 5.0 and 6.0: 30.0\n",
      "Square of 5.0: 25.0\n",
      "Square of 6.0: 36.0\n"
     ]
    }
   ],
   "source": [
    "print(f\"Sum of {a} and {b}: {sum_ab}\")\n",
    "print(f\"Product of {a} and {b}: {product_ab}\")\n",
    "print(f\"Square of {a}: {square_a}\")\n",
    "print(f\"Square of {b}: {square_b}\")"
   ]
  }
 ],
 "metadata": {
  "kernelspec": {
   "display_name": "Python 3",
   "language": "python",
   "name": "python3"
  },
  "language_info": {
   "codemirror_mode": {
    "name": "ipython",
    "version": 3
   },
   "file_extension": ".py",
   "mimetype": "text/x-python",
   "name": "python",
   "nbconvert_exporter": "python",
   "pygments_lexer": "ipython3",
   "version": "3.12.9"
  }
 },
 "nbformat": 4,
 "nbformat_minor": 5
}
