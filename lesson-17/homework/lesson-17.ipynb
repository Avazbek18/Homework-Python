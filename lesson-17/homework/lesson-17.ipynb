{
 "cells": [
  {
   "cell_type": "code",
   "execution_count": 3,
   "id": "906ef195",
   "metadata": {},
   "outputs": [
    {
     "name": "stdout",
     "output_type": "stream",
     "text": [
      "  First Name  Age           City\n",
      "0      Alice   25       New York\n",
      "1        Bob   30  San Francisco\n",
      "2    Charlie   35    Los Angeles\n",
      "3      David   40        Chicago\n",
      "\n",
      "After change:\n",
      "  first_name  age           city\n",
      "0      Alice   25       New York\n",
      "1        Bob   30  San Francisco\n",
      "2    Charlie   35    Los Angeles\n",
      "3      David   40        Chicago\n"
     ]
    }
   ],
   "source": [
    "#Homework 1:\n",
    "\n",
    "import pandas as pd \n",
    "\n",
    "data = {'First Name': ['Alice', 'Bob', 'Charlie', 'David'], 'Age': [25, 30, 35, 40], 'City': ['New York', 'San Francisco', 'Los Angeles', 'Chicago']} \n",
    "df = pd.DataFrame(data)\n",
    "print(df)\n",
    "\n",
    "df.columns=df.columns.str.lower().str.replace(' ', '_')\n",
    "print('\\nAfter change:')\n",
    "print(df)"
   ]
  },
  {
   "cell_type": "code",
   "execution_count": 4,
   "id": "a8a64337",
   "metadata": {},
   "outputs": [
    {
     "name": "stdout",
     "output_type": "stream",
     "text": [
      "  first_name  age           city\n",
      "0      Alice   25       New York\n",
      "1        Bob   30  San Francisco\n",
      "2    Charlie   35    Los Angeles\n"
     ]
    }
   ],
   "source": [
    "#Print the first 3 rows of the DataFrame\n",
    "\n",
    "print(df.iloc[:3])"
   ]
  },
  {
   "cell_type": "code",
   "execution_count": 5,
   "id": "737b1d2a",
   "metadata": {},
   "outputs": [
    {
     "name": "stdout",
     "output_type": "stream",
     "text": [
      "32.5\n"
     ]
    }
   ],
   "source": [
    "#Find the mean age of the individuals\n",
    "\n",
    "print(df['age']. mean())"
   ]
  },
  {
   "cell_type": "code",
   "execution_count": 6,
   "id": "66f3b92c",
   "metadata": {},
   "outputs": [
    {
     "name": "stdout",
     "output_type": "stream",
     "text": [
      "  first_name           city\n",
      "0      Alice       New York\n",
      "1        Bob  San Francisco\n",
      "2    Charlie    Los Angeles\n",
      "3      David        Chicago\n"
     ]
    }
   ],
   "source": [
    "#Select and print only the 'Name' and 'City' columns \n",
    "\n",
    "print(df[['first_name', 'city']])"
   ]
  },
  {
   "cell_type": "code",
   "execution_count": 7,
   "id": "14470fe1",
   "metadata": {},
   "outputs": [
    {
     "name": "stdout",
     "output_type": "stream",
     "text": [
      "  first_name  age           city\n",
      "0      Alice   25       New York\n",
      "1        Bob   30  San Francisco\n",
      "2    Charlie   35    Los Angeles\n",
      "3      David   40        Chicago\n",
      "4     Suresh   24         London\n"
     ]
    }
   ],
   "source": [
    "# Add a new column 'Salary' with random salary values\n",
    "\n",
    "df.loc[4] = ['Suresh', 24, 'London']\n",
    "print(df)"
   ]
  },
  {
   "cell_type": "code",
   "execution_count": 8,
   "id": "5452604b",
   "metadata": {},
   "outputs": [
    {
     "name": "stdout",
     "output_type": "stream",
     "text": [
      "<class 'pandas.core.frame.DataFrame'>\n",
      "Index: 5 entries, 0 to 4\n",
      "Data columns (total 3 columns):\n",
      " #   Column      Non-Null Count  Dtype \n",
      "---  ------      --------------  ----- \n",
      " 0   first_name  5 non-null      object\n",
      " 1   age         5 non-null      int64 \n",
      " 2   city        5 non-null      object\n",
      "dtypes: int64(1), object(2)\n",
      "memory usage: 160.0+ bytes\n",
      "None\n"
     ]
    }
   ],
   "source": [
    "# Display summary statistics of the DataFrame\n",
    "\n",
    "print(df.info())"
   ]
  },
  {
   "cell_type": "code",
   "execution_count": 9,
   "id": "cf215515",
   "metadata": {},
   "outputs": [
    {
     "name": "stdout",
     "output_type": "stream",
     "text": [
      "  Month  Sales  Expenses\n",
      "0   Jan   5000      3000\n",
      "1   Feb   6000      3500\n",
      "2   Mar   7500      4000\n",
      "3   Apr   8000      4500\n"
     ]
    }
   ],
   "source": [
    "#Homework2:\n",
    "\n",
    "import pandas as pd \n",
    "\n",
    "data= { \n",
    "    'Month': ['Jan', 'Feb', 'Mar', 'Apr'],\n",
    "    'Sales': [5000, 6000, 7500, 8000],\n",
    "    'Expenses': [3000, 3500, 4000, 4500]\n",
    "}\n",
    "sales_and_expenses = pd.DataFrame(data)\n",
    "print(sales_and_expenses)\n"
   ]
  },
  {
   "cell_type": "code",
   "execution_count": 13,
   "id": "521b0e60",
   "metadata": {},
   "outputs": [
    {
     "name": "stdout",
     "output_type": "stream",
     "text": [
      "\n",
      "Maximum Sales: 8000\n",
      "Maximum Expenses: 4500\n",
      "\n",
      "Minimum Sales: 5000\n",
      "Minimum Expenses: 3000\n",
      "\n",
      "Average Sales: 6625.0\n",
      "Average Expenses: 3750.0\n"
     ]
    }
   ],
   "source": [
    "\n",
    "max_sales = sales_and_expenses['Sales'].max()\n",
    "max_expenses = sales_and_expenses['Expenses'].max()\n",
    "print(\"\\nMaximum Sales:\", max_sales)\n",
    "print(\"Maximum Expenses:\", max_expenses)\n",
    "\n",
    "min_sales = sales_and_expenses['Sales'].min()\n",
    "min_expenses = sales_and_expenses['Expenses'].min()\n",
    "\n",
    "print(\"\\nMinimum Sales:\", min_sales)\n",
    "print(\"Minimum Expenses:\", min_expenses)\n",
    "\n",
    "avg_sales = sales_and_expenses['Sales'].mean()\n",
    "avg_expenses = sales_and_expenses['Expenses'].mean()\n",
    "print(\"\\nAverage Sales:\", avg_sales)\n",
    "print(\"Average Expenses:\", avg_expenses)"
   ]
  },
  {
   "cell_type": "code",
   "execution_count": 14,
   "id": "9634c392",
   "metadata": {},
   "outputs": [
    {
     "name": "stdout",
     "output_type": "stream",
     "text": [
      "Maximum expense for each category:\n",
      " Category\n",
      "Rent             1500\n",
      "Utilities         250\n",
      "Groceries         350\n",
      "Entertainment     180\n",
      "dtype: int64\n",
      "\n",
      "Minimum expense for each category:\n",
      " Category\n",
      "Rent             1200\n",
      "Utilities         200\n",
      "Groceries         300\n",
      "Entertainment     150\n",
      "dtype: int64\n",
      "\n",
      "Average expense for each category:\n",
      " Category\n",
      "Rent             1350.0\n",
      "Utilities         227.5\n",
      "Groceries         325.0\n",
      "Entertainment     165.0\n",
      "dtype: float64\n"
     ]
    }
   ],
   "source": [
    "#Homework3: \n",
    "\n",
    "import pandas as pd\n",
    "\n",
    "# Step 1: Create the DataFrame\n",
    "data = {\n",
    "    'Category': ['Rent', 'Utilities', 'Groceries', 'Entertainment'],\n",
    "    'January': [1200, 200, 300, 150],\n",
    "    'February': [1300, 220, 320, 160],\n",
    "    'March': [1400, 240, 330, 170],\n",
    "    'April': [1500, 250, 350, 180]\n",
    "}\n",
    "\n",
    "expenses = pd.DataFrame(data)\n",
    "\n",
    "# Step 2: Set 'Category' as the index\n",
    "expenses = expenses.set_index('Category')\n",
    "\n",
    "# Step 3: Calculate maximum, minimum, and average for each category\n",
    "max_expenses = expenses.max(axis=1)\n",
    "min_expenses = expenses.min(axis=1)\n",
    "avg_expenses = expenses.mean(axis=1)\n",
    "\n",
    "# Step 4: Display the results\n",
    "print(\"Maximum expense for each category:\\n\", max_expenses)\n",
    "print(\"\\nMinimum expense for each category:\\n\", min_expenses)\n",
    "print(\"\\nAverage expense for each category:\\n\", avg_expenses)\n"
   ]
  },
  {
   "cell_type": "code",
   "execution_count": null,
   "id": "afe13a15",
   "metadata": {},
   "outputs": [],
   "source": []
  },
  {
   "cell_type": "code",
   "execution_count": null,
   "id": "5f44e588",
   "metadata": {},
   "outputs": [],
   "source": []
  },
  {
   "cell_type": "code",
   "execution_count": null,
   "id": "26c217dd",
   "metadata": {},
   "outputs": [],
   "source": []
  },
  {
   "cell_type": "code",
   "execution_count": null,
   "id": "b5eaa07d",
   "metadata": {},
   "outputs": [],
   "source": []
  }
 ],
 "metadata": {
  "kernelspec": {
   "display_name": ".venv",
   "language": "python",
   "name": "python3"
  },
  "language_info": {
   "codemirror_mode": {
    "name": "ipython",
    "version": 3
   },
   "file_extension": ".py",
   "mimetype": "text/x-python",
   "name": "python",
   "nbconvert_exporter": "python",
   "pygments_lexer": "ipython3",
   "version": "3.12.9"
  }
 },
 "nbformat": 4,
 "nbformat_minor": 5
}
