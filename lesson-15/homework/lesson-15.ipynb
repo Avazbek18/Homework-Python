{
 "cells": [
  {
   "cell_type": "code",
   "execution_count": 1,
   "id": "b003e38c",
   "metadata": {},
   "outputs": [
    {
     "name": "stdout",
     "output_type": "stream",
     "text": [
      "Database created successfully\n",
      "\n",
      "Connection is closed\n"
     ]
    }
   ],
   "source": [
    "#1 Creating a database \n",
    "\n",
    "import sqlite3\n",
    "\n",
    "conn=sqlite3.connect('Roster.db')\n",
    "cursor=conn.cursor()\n",
    "\n",
    "cursor.execute(\"\"\"\n",
    "CREATE TABLE roster (name text, species text, age integer);\n",
    "\"\"\")\n",
    "print('Database created successfully')\n",
    "\n",
    "conn.close()\n",
    "print('\\nConnection is closed')"
   ]
  },
  {
   "cell_type": "code",
   "execution_count": null,
   "id": "c692fb52",
   "metadata": {},
   "outputs": [
    {
     "name": "stdout",
     "output_type": "stream",
     "text": [
      "Data entered successfully\n",
      "\n",
      " The SQLite connection is closed\n"
     ]
    }
   ],
   "source": [
    "# 2.Inserting the date \n",
    "\n",
    "import sqlite3\n",
    "conn=sqlite3.connect('Roster.db')\n",
    "cursor=conn.cursor()\n",
    "rows=[\n",
    "    ('Benjamin Sisko', 'Human', 40),\n",
    "    ('Jadzia Dax', 'Trill', 40),\n",
    "    ('Kira Nerys', 'Bajoran', 40)\n",
    "]\n",
    "cursor.executemany(\"\"\"\n",
    "Insert into roster (name,species,age)\n",
    "Values(?,?,?)\n",
    "\"\"\" , rows)\n",
    "print('Data entered successfully')\n",
    "conn.commit()\n",
    "if (conn):\n",
    "    conn.close()\n",
    "    print('\\n The SQLite connection is closed')"
   ]
  },
  {
   "cell_type": "code",
   "execution_count": 6,
   "id": "fe840a7b",
   "metadata": {},
   "outputs": [
    {
     "name": "stdout",
     "output_type": "stream",
     "text": [
      "Record updated successfully\n",
      "\n",
      "After updating details:\n",
      "('Benjamin Sisko', 'Human', 40)\n",
      "('Ezri Dax', 'Trill', 40)\n",
      "('Kira Nerys', 'Bajoran', 40)\n",
      "\n",
      " Connection is closed\n"
     ]
    }
   ],
   "source": [
    "#3. Update a specific column\n",
    "\n",
    "import sqlite3\n",
    "conn=sqlite3.connect('Roster.db')\n",
    "cursorobj=conn.cursor()\n",
    "sql_update_query=\"\"\"Update roster set name = 'Ezri Dax' where name = 'Jadzia Dax' \"\"\"\n",
    "cursorobj.execute(sql_update_query)\n",
    "conn.commit()\n",
    "print('Record updated successfully')\n",
    "cursorobj.execute(\"Select * from roster\")\n",
    "rows=cursorobj.fetchall()\n",
    "print(\"\\nAfter updating details:\")\n",
    "for row in rows:\n",
    "    print(row)\n",
    "if (conn):\n",
    "    conn.close()\n",
    "    print('\\n Connection is closed')"
   ]
  },
  {
   "cell_type": "code",
   "execution_count": 7,
   "id": "22143f3e",
   "metadata": {},
   "outputs": [
    {
     "name": "stdout",
     "output_type": "stream",
     "text": [
      "Bajoran crew members:\n",
      "Kira Nerys, Age: 40\n"
     ]
    }
   ],
   "source": [
    "#4. Display the Name and Age of everyone in the table classified as Bajoran\n",
    "\n",
    "import sqlite3\n",
    "conn=sqlite3.connect('Roster.db')\n",
    "cursor=conn.cursor()\n",
    "\n",
    "cursor.execute('''\n",
    "Select name, age from roster where species= \"Bajoran\"\n",
    "''')\n",
    "bajoran_records=cursor.fetchall()\n",
    "\n",
    "print('Bajoran crew members:')\n",
    "for name,age in bajoran_records:\n",
    "    print(f'{name}, Age: {age}')\n",
    "\n",
    "conn.commit()\n",
    "conn.close()\n"
   ]
  },
  {
   "cell_type": "code",
   "execution_count": null,
   "id": "0be20eef",
   "metadata": {},
   "outputs": [],
   "source": []
  },
  {
   "cell_type": "code",
   "execution_count": null,
   "id": "d6ac0c10",
   "metadata": {},
   "outputs": [],
   "source": []
  },
  {
   "cell_type": "code",
   "execution_count": null,
   "id": "8cba1576",
   "metadata": {},
   "outputs": [],
   "source": []
  },
  {
   "cell_type": "code",
   "execution_count": null,
   "id": "090d7749",
   "metadata": {},
   "outputs": [],
   "source": []
  },
  {
   "cell_type": "code",
   "execution_count": null,
   "id": "e73d1fa5",
   "metadata": {},
   "outputs": [],
   "source": []
  },
  {
   "cell_type": "code",
   "execution_count": null,
   "id": "31120154",
   "metadata": {},
   "outputs": [],
   "source": []
  },
  {
   "cell_type": "code",
   "execution_count": null,
   "id": "2716aad1",
   "metadata": {},
   "outputs": [],
   "source": []
  },
  {
   "cell_type": "code",
   "execution_count": null,
   "id": "e021c358",
   "metadata": {},
   "outputs": [],
   "source": []
  },
  {
   "cell_type": "code",
   "execution_count": null,
   "id": "ee037fdf",
   "metadata": {},
   "outputs": [],
   "source": []
  },
  {
   "cell_type": "code",
   "execution_count": null,
   "id": "1087ca89",
   "metadata": {},
   "outputs": [],
   "source": []
  },
  {
   "cell_type": "code",
   "execution_count": null,
   "id": "8a42aee5",
   "metadata": {},
   "outputs": [],
   "source": []
  },
  {
   "cell_type": "code",
   "execution_count": null,
   "id": "704caf47",
   "metadata": {},
   "outputs": [],
   "source": []
  },
  {
   "cell_type": "code",
   "execution_count": null,
   "id": "445a2765",
   "metadata": {},
   "outputs": [],
   "source": []
  },
  {
   "cell_type": "code",
   "execution_count": null,
   "id": "caad5c45",
   "metadata": {},
   "outputs": [],
   "source": []
  },
  {
   "cell_type": "code",
   "execution_count": null,
   "id": "bbce2450",
   "metadata": {},
   "outputs": [],
   "source": []
  }
 ],
 "metadata": {
  "kernelspec": {
   "display_name": ".venv",
   "language": "python",
   "name": "python3"
  },
  "language_info": {
   "codemirror_mode": {
    "name": "ipython",
    "version": 3
   },
   "file_extension": ".py",
   "mimetype": "text/x-python",
   "name": "python",
   "nbconvert_exporter": "python",
   "pygments_lexer": "ipython3",
   "version": "3.12.9"
  }
 },
 "nbformat": 4,
 "nbformat_minor": 5
}
