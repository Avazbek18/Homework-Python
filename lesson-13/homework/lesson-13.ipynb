{
 "cells": [
  {
   "cell_type": "code",
   "execution_count": 3,
   "id": "1644fa43",
   "metadata": {},
   "outputs": [
    {
     "name": "stdout",
     "output_type": "stream",
     "text": [
      "\n",
      "23\n",
      "18\n",
      "\n"
     ]
    }
   ],
   "source": [
    "#1. Age Calculator \n",
    "\n",
    "from datetime import date\n",
    "\n",
    "def calculate_age(dtob):\n",
    "    today=date.today()\n",
    "\n",
    "    return today.year-dtob.year-((today.month, today.day)<(dtob.month,dtob.day))\n",
    "print()\n",
    "print(calculate_age(date(2001,10,18)))\n",
    "print(calculate_age(date(2006,7,17)))\n",
    "print()"
   ]
  },
  {
   "cell_type": "code",
   "execution_count": 4,
   "id": "8b5ee024",
   "metadata": {},
   "outputs": [
    {
     "name": "stdout",
     "output_type": "stream",
     "text": [
      "123\n"
     ]
    }
   ],
   "source": [
    "#2.Days Until Next Birthday\n",
    "\n",
    "from datetime import datetime\n",
    "\n",
    "def get_user_birthday():\n",
    "    year=int(input('When is your birthday?[YY]'))\n",
    "    month=int(input('When is your birthday?[MM]'))\n",
    "    day=int(input('When is your birthday[DD]'))\n",
    "    birthday=datetime(year,month,day)\n",
    "    return birthday\n",
    "def calculate_dates(birthday):\n",
    "    now=datetime.now()\n",
    "    birthday=datetime(now.year, birthday.month, birthday.day)\n",
    "    return (birthday-now.today()).days+1\n",
    "bd=get_user_birthday()\n",
    "c=calculate_dates(bd)\n",
    "print(c)\n",
    "\n",
    "    "
   ]
  },
  {
   "cell_type": "code",
   "execution_count": 8,
   "id": "a5a5913f",
   "metadata": {},
   "outputs": [
    {
     "name": "stdout",
     "output_type": "stream",
     "text": [
      "Invalid date or time format. PLease use YYYY-MM-DD for date and HH:MM for time\n"
     ]
    }
   ],
   "source": [
    "#3.Meeting Scheduler\n",
    "\n",
    "from datetime import datetime, timedelta\n",
    "\n",
    "def meeting_scheduler():\n",
    "    date_str=input('Enter the current date(YYYY-MM-DD):')\n",
    "    time_str=input('Enter the current time(HH:MM):')\n",
    "    hours=int(input('Enter the duration of the meeting in hrs:'))\n",
    "    minutes=int(input('Enter the duration of the meeting in mins:'))\n",
    "    \n",
    "    try :\n",
    "        current_datetime=datetime.strptime(f'{date_str}{time_str}', '%Y-%m-%d %H:%M')\n",
    "        duration=timedelta(hours=hours, minutes=minutes)\n",
    "        end_datetime=current_datetime+duration\n",
    "\n",
    "        print(f'The meeting will end at:{end_datetime.strftime('%Y-%m-%d %H:%M')}')\n",
    "\n",
    "    except ValueError:\n",
    "        print('Invalid date or time format. PLease use YYYY-MM-DD for date and HH:MM for time')\n",
    "\n",
    "if __name__=='__main__':\n",
    "    meeting_scheduler()\n",
    "    "
   ]
  },
  {
   "cell_type": "code",
   "execution_count": 2,
   "id": "cfef1cd4",
   "metadata": {},
   "outputs": [
    {
     "name": "stdout",
     "output_type": "stream",
     "text": [
      "UTC time: 2025-06-17 11:06:36.727457+00:00\n",
      "Tokyo Time: 2025-06-17 20:06:36.727457+09:00\n"
     ]
    }
   ],
   "source": [
    "#4. Timezone Converter\n",
    "\n",
    "from datetime import datetime\n",
    "import pytz\n",
    "utc_time=datetime.now(pytz.utc)\n",
    "\n",
    "tokyo_timezone=pytz.timezone('Asia/Tokyo')\n",
    "tokyo_time=utc_time.astimezone(tokyo_timezone)\n",
    "\n",
    "print('UTC time:', utc_time)\n",
    "print('Tokyo Time:', tokyo_time)"
   ]
  },
  {
   "cell_type": "code",
   "execution_count": 3,
   "id": "d98ebd65",
   "metadata": {},
   "outputs": [
    {
     "name": "stdout",
     "output_type": "stream",
     "text": [
      "Fire in the hole\n"
     ]
    }
   ],
   "source": [
    "#5. Countdown Timer \n",
    "\n",
    "import time \n",
    "def countdown(t):\n",
    "    while t:\n",
    "        mins,secs=divmod(t,60)\n",
    "        timer='{:02d}:{:02d}'.format(mins,secs)\n",
    "        print(timer,end='\\r')\n",
    "        time.sleep(1)\n",
    "        t-=1\n",
    "    print('Fire in the hole')\n",
    "t=input('Enter the time in seconds:')\n",
    "countdown(int(t))\n",
    "        \n"
   ]
  },
  {
   "cell_type": "code",
   "execution_count": 6,
   "id": "1c183b17",
   "metadata": {},
   "outputs": [
    {
     "name": "stdout",
     "output_type": "stream",
     "text": [
      "valid email\n"
     ]
    }
   ],
   "source": [
    "#6. Email Validator\n",
    "\n",
    "import re \n",
    "pattern=\"[a-zA-Z0-9]+[a-zA-Z]+.(com|edu|net)\"\n",
    "user_input=input()\n",
    "if(re.search(pattern, user_input)):\n",
    "    print('valid email')\n",
    "else:\n",
    "    print('invalid email')\n"
   ]
  },
  {
   "cell_type": "code",
   "execution_count": 1,
   "id": "5adf0893",
   "metadata": {},
   "outputs": [
    {
     "name": "stdout",
     "output_type": "stream",
     "text": [
      "(722) 256-2848\n"
     ]
    }
   ],
   "source": [
    "#7. Phone Number Formatter \n",
    "\n",
    "import re \n",
    "\n",
    "def format_phone_number(phone_number):\n",
    "    digits=re.sub(r'\\D', '', phone_number)\n",
    "\n",
    "    match=re.fullmatch(r'(\\d{3})(\\d{3})(\\d{4})', digits)\n",
    "    if match:\n",
    "        return f'({match.group(1)}) {match.group(2)}-{match.group(3)}'\n",
    "    else:\n",
    "        return 'Invalid phone number.'\n",
    "    \n",
    "user_input=input('Enter a 10-digit phone number:')\n",
    "print(format_phone_number(user_input))\n",
    "    "
   ]
  },
  {
   "cell_type": "code",
   "execution_count": 2,
   "id": "4af0c20d",
   "metadata": {},
   "outputs": [
    {
     "name": "stdout",
     "output_type": "stream",
     "text": [
      "Valid password\n"
     ]
    }
   ],
   "source": [
    "#8. Password Strength Checker \n",
    "\n",
    "import re \n",
    "\n",
    "def validate_password(password):\n",
    "    if len(password)<8:\n",
    "        return False\n",
    "    if not re.search(r'[A-Z]', password):\n",
    "        return False\n",
    "    if not re.search(r'[a-z]', password):\n",
    "        return False\n",
    "    if not re.search(r'\\d', password):\n",
    "        return False\n",
    "    if not re.search(r'[!@#$%^&*(),.?:{}|<>]', password):\n",
    "        return False\n",
    "    return True\n",
    "\n",
    "password=input('Input your password:')\n",
    "is_valid=validate_password(password)\n",
    "if is_valid:\n",
    "    print('Valid password')\n",
    "else:\n",
    "    print ('Password does not meet requirements!')\n",
    "\n",
    "    \n"
   ]
  },
  {
   "cell_type": "code",
   "execution_count": 3,
   "id": "586104c3",
   "metadata": {},
   "outputs": [
    {
     "name": "stdout",
     "output_type": "stream",
     "text": [
      "\n",
      "Found 2 occurence(s) of the word 'Python':\n",
      "1:Python\n",
      "2:Python\n"
     ]
    }
   ],
   "source": [
    "#9. Word Finder\n",
    "\n",
    "import re \n",
    "\n",
    "def wird_finder(text,word):\n",
    "    matches=re.findall(rf'\\b{re.escape(word)}\\b', text,re.IGNORECASE)\n",
    "    return matches\n",
    "sample_text=\"\"\" \n",
    "Python is a powerful programming languag. Many developers love Python because of its simplicity and readability.\n",
    "\"\"\"\n",
    "search_word=input('Enter a word to search for:')\n",
    "occurences=wird_finder(sample_text,search_word)\n",
    "\n",
    "if occurences:\n",
    "    print(f\"\\nFound {len(occurences)} occurence(s) of the word '{search_word}':\")\n",
    "    for i,match in enumerate(occurences,1):\n",
    "        print(f'{i}:{match}')\n",
    "else:\n",
    "    print(f\"\\nThe word '{search_word}' was not found in the text.\")\n",
    "    \n"
   ]
  },
  {
   "cell_type": "code",
   "execution_count": 9,
   "id": "06bb238d",
   "metadata": {},
   "outputs": [
    {
     "name": "stdout",
     "output_type": "stream",
     "text": [
      "The original string is : gfg at 2021-01-04\n",
      "Computed date : 2021-01-04\n"
     ]
    }
   ],
   "source": [
    "#10.Date Extractor\n",
    "\n",
    "from dateutil import parser\n",
    "\n",
    "test_str = \"gfg at 2021-01-04\"\n",
    "\n",
    "print(\"The original string is : \" + str(test_str))\n",
    "\n",
    "res = parser.parse(test_str, fuzzy=True)\n",
    "\n",
    "print(\"Computed date : \" + str(res)[:10])\n"
   ]
  },
  {
   "cell_type": "code",
   "execution_count": null,
   "id": "ba066d24",
   "metadata": {},
   "outputs": [],
   "source": []
  },
  {
   "cell_type": "code",
   "execution_count": null,
   "id": "83e8026c",
   "metadata": {},
   "outputs": [],
   "source": []
  },
  {
   "cell_type": "code",
   "execution_count": null,
   "id": "a612b41a",
   "metadata": {},
   "outputs": [],
   "source": []
  },
  {
   "cell_type": "code",
   "execution_count": null,
   "id": "04bae086",
   "metadata": {},
   "outputs": [],
   "source": []
  },
  {
   "cell_type": "code",
   "execution_count": null,
   "id": "b50dc8cb",
   "metadata": {},
   "outputs": [],
   "source": []
  },
  {
   "cell_type": "code",
   "execution_count": null,
   "id": "1ad89437",
   "metadata": {},
   "outputs": [],
   "source": []
  },
  {
   "cell_type": "code",
   "execution_count": null,
   "id": "854183e2",
   "metadata": {},
   "outputs": [],
   "source": []
  },
  {
   "cell_type": "code",
   "execution_count": null,
   "id": "849fef07",
   "metadata": {},
   "outputs": [],
   "source": []
  },
  {
   "cell_type": "code",
   "execution_count": null,
   "id": "9030d33c",
   "metadata": {},
   "outputs": [],
   "source": []
  },
  {
   "cell_type": "code",
   "execution_count": null,
   "id": "cdfbad39",
   "metadata": {},
   "outputs": [],
   "source": []
  },
  {
   "cell_type": "code",
   "execution_count": null,
   "id": "a8251285",
   "metadata": {},
   "outputs": [],
   "source": []
  },
  {
   "cell_type": "code",
   "execution_count": null,
   "id": "5016de76",
   "metadata": {},
   "outputs": [],
   "source": []
  },
  {
   "cell_type": "code",
   "execution_count": null,
   "id": "f1780c74",
   "metadata": {},
   "outputs": [],
   "source": []
  },
  {
   "cell_type": "code",
   "execution_count": null,
   "id": "b344fd29",
   "metadata": {},
   "outputs": [],
   "source": []
  },
  {
   "cell_type": "code",
   "execution_count": null,
   "id": "5a05a74c",
   "metadata": {},
   "outputs": [],
   "source": []
  },
  {
   "cell_type": "code",
   "execution_count": null,
   "id": "f7c75d2b",
   "metadata": {},
   "outputs": [],
   "source": []
  },
  {
   "cell_type": "code",
   "execution_count": null,
   "id": "122059a7",
   "metadata": {},
   "outputs": [],
   "source": []
  }
 ],
 "metadata": {
  "kernelspec": {
   "display_name": ".venv",
   "language": "python",
   "name": "python3"
  },
  "language_info": {
   "codemirror_mode": {
    "name": "ipython",
    "version": 3
   },
   "file_extension": ".py",
   "mimetype": "text/x-python",
   "name": "python",
   "nbconvert_exporter": "python",
   "pygments_lexer": "ipython3",
   "version": "3.12.9"
  }
 },
 "nbformat": 4,
 "nbformat_minor": 5
}
