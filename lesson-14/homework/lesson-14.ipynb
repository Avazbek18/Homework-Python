{
 "cells": [
  {
   "cell_type": "code",
   "execution_count": null,
   "id": "4b037fe9",
   "metadata": {},
   "outputs": [],
   "source": [
    "#Task 1: JSON Parsing\n",
    "\n",
    "def load_json_file(path):\n",
    "    with open (path) as f:\n",
    "        global j_obj\n",
    "        j_obj=json.load(f)\n",
    "        return j_obj"
   ]
  },
  {
   "cell_type": "code",
   "execution_count": 16,
   "id": "cfc36109",
   "metadata": {},
   "outputs": [
    {
     "data": {
      "text/plain": [
       "{'states': [{'name': 'Alabama', 'abbreviation': 'AL'},\n",
       "  {'name': 'Alaska', 'abbreviation': 'AK'},\n",
       "  {'name': 'Arizona', 'abbreviation': 'AZ'},\n",
       "  {'name': 'Arkansas', 'abbreviation': 'AR'},\n",
       "  {'name': 'California', 'abbreviation': 'CA'},\n",
       "  {'name': 'Colorado', 'abbreviation': 'CO'},\n",
       "  {'name': 'Connecticut', 'abbreviation': 'CT'},\n",
       "  {'name': 'Delaware', 'abbreviation': 'DE'},\n",
       "  {'name': 'Florida', 'abbreviation': 'FL'},\n",
       "  {'name': 'Georgia', 'abbreviation': 'GA'},\n",
       "  {'name': 'Hawaii', 'abbreviation': 'HI'},\n",
       "  {'name': 'Idaho', 'abbreviation': 'ID'},\n",
       "  {'name': 'Illinois', 'abbreviation': 'IL'},\n",
       "  {'name': 'Indiana', 'abbreviation': 'IN'},\n",
       "  {'name': 'Iowa', 'abbreviation': 'IA'},\n",
       "  {'name': 'Kansas', 'abbreviation': 'KS'},\n",
       "  {'name': 'Kentucky', 'abbreviation': 'KY'},\n",
       "  {'name': 'Louisiana', 'abbreviation': 'LA'},\n",
       "  {'name': 'Maine', 'abbreviation': 'ME'},\n",
       "  {'name': 'Maryland', 'abbreviation': 'MD'},\n",
       "  {'name': 'Massachusetts', 'abbreviation': 'MA'},\n",
       "  {'name': 'Michigan', 'abbreviation': 'MI'},\n",
       "  {'name': 'Minnesota', 'abbreviation': 'MN'},\n",
       "  {'name': 'Mississippi', 'abbreviation': 'MS'},\n",
       "  {'name': 'Missouri', 'abbreviation': 'MO'},\n",
       "  {'name': 'Montana', 'abbreviation': 'MT'},\n",
       "  {'name': 'Nebraska', 'abbreviation': 'NE'},\n",
       "  {'name': 'Nevada', 'abbreviation': 'NV'},\n",
       "  {'name': 'New Hampshire', 'abbreviation': 'NH'},\n",
       "  {'name': 'New Jersey', 'abbreviation': 'NJ'},\n",
       "  {'name': 'New Mexico', 'abbreviation': 'NM'},\n",
       "  {'name': 'New York', 'abbreviation': 'NY'},\n",
       "  {'name': 'North Carolina', 'abbreviation': 'NC'},\n",
       "  {'name': 'North Dakota', 'abbreviation': 'ND'},\n",
       "  {'name': 'Ohio', 'abbreviation': 'OH'},\n",
       "  {'name': 'Oklahoma', 'abbreviation': 'OK'},\n",
       "  {'name': 'Oregon', 'abbreviation': 'OR'},\n",
       "  {'name': 'Pennsylvania', 'abbreviation': 'PA'},\n",
       "  {'name': 'Rhode Island', 'abbreviation': 'RI'},\n",
       "  {'name': 'South Carolina', 'abbreviation': 'SC'},\n",
       "  {'name': 'South Dakota', 'abbreviation': 'SD'},\n",
       "  {'name': 'Tennessee', 'abbreviation': 'TN'},\n",
       "  {'name': 'Texas', 'abbreviation': 'TX'},\n",
       "  {'name': 'Utah', 'abbreviation': 'UT'},\n",
       "  {'name': 'Vermont', 'abbreviation': 'VT'},\n",
       "  {'name': 'Virginia', 'abbreviation': 'VA'},\n",
       "  {'name': 'Washington', 'abbreviation': 'WA'},\n",
       "  {'name': 'West Virginia', 'abbreviation': 'WV'},\n",
       "  {'name': 'Wisconsin', 'abbreviation': 'WI'},\n",
       "  {'name': 'Wyoming', 'abbreviation': 'WY'}]}"
      ]
     },
     "execution_count": 16,
     "metadata": {},
     "output_type": "execute_result"
    }
   ],
   "source": [
    "load_json_file('students.json')"
   ]
  },
  {
   "cell_type": "code",
   "execution_count": 17,
   "id": "cabe4797",
   "metadata": {},
   "outputs": [
    {
     "data": {
      "text/plain": [
       "dict"
      ]
     },
     "execution_count": 17,
     "metadata": {},
     "output_type": "execute_result"
    }
   ],
   "source": [
    "type(j_obj)"
   ]
  },
  {
   "cell_type": "code",
   "execution_count": null,
   "id": "e0804e7a",
   "metadata": {},
   "outputs": [],
   "source": [
    "#Task 2: Weather API\n",
    "\n",
    "import requests\n",
    "\n",
    "weather_url=r'https://api.openweathermap.org/data/2.5/find?q=Nukus&appid=5796abbde9106b7da4febfae8c44c232&units=metric'"
   ]
  },
  {
   "cell_type": "code",
   "execution_count": 5,
   "id": "b4510897",
   "metadata": {},
   "outputs": [],
   "source": [
    "r1=requests.get(weather_url)"
   ]
  },
  {
   "cell_type": "code",
   "execution_count": 8,
   "id": "25541cc7",
   "metadata": {},
   "outputs": [
    {
     "data": {
      "text/plain": [
       "'application/json; charset=utf-8'"
      ]
     },
     "execution_count": 8,
     "metadata": {},
     "output_type": "execute_result"
    }
   ],
   "source": [
    "r1.headers['Content-type']"
   ]
  },
  {
   "cell_type": "code",
   "execution_count": 6,
   "id": "d70c7fbe",
   "metadata": {},
   "outputs": [
    {
     "data": {
      "text/plain": [
       "{'message': 'accurate',\n",
       " 'cod': '200',\n",
       " 'count': 1,\n",
       " 'list': [{'id': 601294,\n",
       "   'name': 'Nukus',\n",
       "   'coord': {'lat': 42.4531, 'lon': 59.6103},\n",
       "   'main': {'temp': 30.99,\n",
       "    'feels_like': 29.07,\n",
       "    'temp_min': 30.99,\n",
       "    'temp_max': 30.99,\n",
       "    'pressure': 1009,\n",
       "    'humidity': 20,\n",
       "    'sea_level': 1009,\n",
       "    'grnd_level': 1000},\n",
       "   'dt': 1750331347,\n",
       "   'wind': {'speed': 4.12, 'deg': 220},\n",
       "   'sys': {'country': 'UZ'},\n",
       "   'rain': None,\n",
       "   'snow': None,\n",
       "   'clouds': {'all': 0},\n",
       "   'weather': [{'id': 800,\n",
       "     'main': 'Clear',\n",
       "     'description': 'clear sky',\n",
       "     'icon': '01d'}]}]}"
      ]
     },
     "execution_count": 6,
     "metadata": {},
     "output_type": "execute_result"
    }
   ],
   "source": [
    "r1.json()"
   ]
  },
  {
   "cell_type": "code",
   "execution_count": 10,
   "id": "02c13d5b",
   "metadata": {},
   "outputs": [
    {
     "name": "stdout",
     "output_type": "stream",
     "text": [
      "\n",
      "Book Manager Menu:\n",
      "1. Add Book\n",
      "2. Update Book\n",
      "3. Delete Book\n",
      "4. Exit\n",
      "Book with this ID already exists!\n",
      "\n",
      "Book Manager Menu:\n",
      "1. Add Book\n",
      "2. Update Book\n",
      "3. Delete Book\n",
      "4. Exit\n",
      "Book with this ID already exists!\n",
      "\n",
      "Book Manager Menu:\n",
      "1. Add Book\n",
      "2. Update Book\n",
      "3. Delete Book\n",
      "4. Exit\n",
      "Book added successfully.\n",
      "\n",
      "Book Manager Menu:\n",
      "1. Add Book\n",
      "2. Update Book\n",
      "3. Delete Book\n",
      "4. Exit\n",
      "Invalid choice. Try again.\n",
      "\n",
      "Book Manager Menu:\n",
      "1. Add Book\n",
      "2. Update Book\n",
      "3. Delete Book\n",
      "4. Exit\n",
      "Goodbye!\n"
     ]
    }
   ],
   "source": [
    "#Task 3: JSON Modification\n",
    "\n",
    "import json\n",
    "import os\n",
    "\n",
    "BOOKS_FILE = 'books.json'\n",
    "\n",
    "def load_books():\n",
    "    if not os.path.exists(BOOKS_FILE):\n",
    "        return []\n",
    "    with open(BOOKS_FILE, 'r') as f:\n",
    "        return json.load(f)\n",
    "\n",
    "def save_books(books):\n",
    "    with open(BOOKS_FILE, 'w') as f:\n",
    "        json.dump(books, f, indent=4)\n",
    "\n",
    "def add_book():\n",
    "    books = load_books()\n",
    "    book_id = input(\"Enter book ID: \")\n",
    "    if any(book['id'] == book_id for book in books):\n",
    "        print(\"Book with this ID already exists!\")\n",
    "        return\n",
    "    title = input(\"Enter title: \")\n",
    "    author = input(\"Enter author: \")\n",
    "    books.append({'id': book_id, 'title': title, 'author': author})\n",
    "    save_books(books)\n",
    "    print(\"Book added successfully.\")\n",
    "\n",
    "def update_book():\n",
    "    books = load_books()\n",
    "    book_id = input(\"Enter the ID of the book to update: \")\n",
    "    for book in books:\n",
    "        if book['id'] == book_id:\n",
    "            book['title'] = input(\"Enter new title: \")\n",
    "            book['author'] = input(\"Enter new author: \")\n",
    "            save_books(books)\n",
    "            print(\"Book updated successfully.\")\n",
    "            return\n",
    "    print(\"Book not found.\")\n",
    "\n",
    "def delete_book():\n",
    "    books = load_books()\n",
    "    book_id = input(\"Enter the ID of the book to delete: \")\n",
    "    updated_books = [book for book in books if book['id'] != book_id]\n",
    "    if len(books) == len(updated_books):\n",
    "        print(\"Book not found.\")\n",
    "    else:\n",
    "        save_books(updated_books)\n",
    "        print(\"Book deleted successfully.\")\n",
    "\n",
    "def show_menu():\n",
    "    while True:\n",
    "        print(\"\\nBook Manager Menu:\")\n",
    "        print(\"1. Add Book\")\n",
    "        print(\"2. Update Book\")\n",
    "        print(\"3. Delete Book\")\n",
    "        print(\"4. Exit\")\n",
    "\n",
    "        choice = input(\"Enter your choice (1-4): \")\n",
    "\n",
    "        if choice == '1':\n",
    "            add_book()\n",
    "        elif choice == '2':\n",
    "            update_book()\n",
    "        elif choice == '3':\n",
    "            delete_book()\n",
    "        elif choice == '4':\n",
    "            print(\"Goodbye!\")\n",
    "            break\n",
    "        else:\n",
    "            print(\"Invalid choice. Try again.\")\n",
    "\n",
    "if __name__ == '__main__':\n",
    "    show_menu()\n"
   ]
  },
  {
   "cell_type": "code",
   "execution_count": null,
   "id": "191b3199",
   "metadata": {},
   "outputs": [],
   "source": []
  },
  {
   "cell_type": "code",
   "execution_count": null,
   "id": "7f4c92b9",
   "metadata": {},
   "outputs": [
    {
     "name": "stdout",
     "output_type": "stream",
     "text": [
      "🎥 Welcome to Movie Recommender!\n",
      "\n",
      "🎬 Recommended Movie:\n",
      "Title: Mission: Impossible - Ghost Protocol\n",
      "Year: 2011\n",
      "Genre: Action, Adventure, Thriller\n",
      "Plot: The IMF is shut down when it's implicated in the bombing of the Kremlin, causing Ethan Hunt and his new team to go rogue to clear their organization's name.\n"
     ]
    }
   ],
   "source": [
    "#Task-4: Movie Recommendation System\n",
    "\n",
    "import requests\n",
    "import random\n",
    "\n",
    "API_KEY = '5501ad49'  \n",
    "OMDB_URL = 'http://www.omdbapi.com/'\n",
    "\n",
    "SEARCH_TERMS = [\n",
    "    \"love\", \"war\", \"hero\", \"ghost\", \"adventure\",\n",
    "    \"future\", \"magic\", \"crime\", \"city\", \"space\"\n",
    "]\n",
    "\n",
    "def fetch_movies(search_term):\n",
    "    params = {\n",
    "        'apikey': API_KEY,\n",
    "        's': search_term,\n",
    "        'type': 'movie'\n",
    "    }\n",
    "    response = requests.get(OMDB_URL, params=params)\n",
    "    data = response.json()\n",
    "    return data.get('Search', [])\n",
    "\n",
    "def get_movie_details(imdb_id):\n",
    "    params = {\n",
    "        'apikey': API_KEY,\n",
    "        'i': imdb_id,\n",
    "        'plot': 'short'\n",
    "    }\n",
    "    response = requests.get(OMDB_URL, params=params)\n",
    "    return response.json()\n",
    "\n",
    "def recommend_movie_by_genre(user_genre):\n",
    "    random.shuffle(SEARCH_TERMS)\n",
    "\n",
    "    for term in SEARCH_TERMS:\n",
    "        movies = fetch_movies(term)\n",
    "        for movie in movies:\n",
    "            details = get_movie_details(movie['imdbID'])\n",
    "            if 'Genre' in details and user_genre.lower() in details['Genre'].lower():\n",
    "                print(\"\\n🎬 Recommended Movie:\")\n",
    "                print(f\"Title: {details['Title']}\")\n",
    "                print(f\"Year: {details['Year']}\")\n",
    "                print(f\"Genre: {details['Genre']}\")\n",
    "                print(f\"Plot: {details['Plot']}\")\n",
    "                return\n",
    "    print(\"Sorry, couldn't find a movie in that genre. Try another genre.\")\n",
    "\n",
    "def main():\n",
    "    print(\"🎥 Welcome to Movie Recommender!\")\n",
    "    genre = input(\"Enter a movie genre (e.g., Action, Comedy, Drama): \").strip()\n",
    "    recommend_movie_by_genre(genre)\n",
    "\n",
    "if __name__ == \"__main__\":\n",
    "    main()\n"
   ]
  },
  {
   "cell_type": "code",
   "execution_count": null,
   "id": "39bf8727",
   "metadata": {},
   "outputs": [],
   "source": []
  },
  {
   "cell_type": "code",
   "execution_count": null,
   "id": "79737cdf",
   "metadata": {},
   "outputs": [],
   "source": []
  },
  {
   "cell_type": "code",
   "execution_count": null,
   "id": "bcf02ad2",
   "metadata": {},
   "outputs": [],
   "source": []
  },
  {
   "cell_type": "code",
   "execution_count": null,
   "id": "ffabb1c6",
   "metadata": {},
   "outputs": [],
   "source": []
  },
  {
   "cell_type": "code",
   "execution_count": null,
   "id": "eeb5e1d2",
   "metadata": {},
   "outputs": [],
   "source": []
  },
  {
   "cell_type": "code",
   "execution_count": null,
   "id": "78425d54",
   "metadata": {},
   "outputs": [],
   "source": []
  },
  {
   "cell_type": "code",
   "execution_count": null,
   "id": "22cc06e7",
   "metadata": {},
   "outputs": [],
   "source": []
  }
 ],
 "metadata": {
  "kernelspec": {
   "display_name": ".venv",
   "language": "python",
   "name": "python3"
  },
  "language_info": {
   "codemirror_mode": {
    "name": "ipython",
    "version": 3
   },
   "file_extension": ".py",
   "mimetype": "text/x-python",
   "name": "python",
   "nbconvert_exporter": "python",
   "pygments_lexer": "ipython3",
   "version": "3.12.9"
  }
 },
 "nbformat": 4,
 "nbformat_minor": 5
}
