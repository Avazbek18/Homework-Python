{
 "cells": [
  {
   "cell_type": "code",
   "execution_count": null,
   "id": "42239222",
   "metadata": {},
   "outputs": [],
   "source": [
    "#2. Conditional Statements Exercise\n",
    "# Given an integer, n, perform the following conditional actions:\n",
    "\n",
    "# If n is odd, print Weird\n",
    "# If n is even and in the inclusive range of 2 to 5, print Not Weird\n",
    "# If n is even and in the inclusive range of 6 to 20, print Weird\n",
    "# If n is even and greater than 20, print Not Weird"
   ]
  },
  {
   "cell_type": "code",
   "execution_count": 19,
   "id": "6014e975",
   "metadata": {},
   "outputs": [
    {
     "name": "stdout",
     "output_type": "stream",
     "text": [
      "Weird\n"
     ]
    }
   ],
   "source": [
    "if __name__ == '__main__':\n",
    "    n = int(input().strip())\n",
    "if n%2 != 0:\n",
    "    print(\"Weird\")\n",
    "elif n%2 == 0 and n>2 and n<=5:\n",
    "    print(\"Not Weird\")\n",
    "elif n%2 ==0 and n > 6 and n <=20:\n",
    "    print(\"Weird\")\n",
    "else:\n",
    "    print(\"Not Weird\")"
   ]
  },
  {
   "cell_type": "code",
   "execution_count": 23,
   "id": "549db9b1",
   "metadata": {},
   "outputs": [],
   "source": [
    "#3.Given two integer numbers a and b. Find even numbers between this numbers. a and b are inclusive. Don't use loop.\n",
    "\n",
    "def find_even_with_if(a, b):\n",
    "    first_even = a if a % 2 == 0 else a + 1\n",
    "    last_even = b if b % 2 == 0 else b - 1\n",
    "    \n",
    "    if first_even <= last_even:\n",
    "      return list(range(first_even, last_even + 1, 2))\n",
    "    else:\n",
    "      return []"
   ]
  },
  {
   "cell_type": "code",
   "execution_count": 24,
   "id": "877c3647",
   "metadata": {},
   "outputs": [],
   "source": [
    "def find_even_without_if(a, b):\n",
    "    first_even = (a + 1) // 2 * 2\n",
    "    last_even = b // 2 * 2\n",
    "    \n",
    "    return list(range(first_even, last_even + 1, 2)) if first_even <= last_even else []"
   ]
  },
  {
   "cell_type": "code",
   "execution_count": 26,
   "id": "f32b18a2",
   "metadata": {},
   "outputs": [
    {
     "name": "stdout",
     "output_type": "stream",
     "text": [
      "False\n"
     ]
    }
   ],
   "source": [
    "#1. \n",
    "\n",
    "def is_leap(year):\n",
    "    leap = False\n",
    "    \n",
    "    # Write your logic here\n",
    "    if year%400==0 :\n",
    "        leap = True\n",
    "    elif year%4 == 0 and year%100 != 0:\n",
    "        leap = True\n",
    "    return leap\n",
    "\n",
    "year = int(input())\n",
    "print(is_leap(year))"
   ]
  },
  {
   "cell_type": "code",
   "execution_count": null,
   "id": "31de9822",
   "metadata": {},
   "outputs": [],
   "source": []
  },
  {
   "cell_type": "code",
   "execution_count": null,
   "id": "7edcaaf7",
   "metadata": {},
   "outputs": [],
   "source": []
  },
  {
   "cell_type": "code",
   "execution_count": null,
   "id": "1f3144e0",
   "metadata": {},
   "outputs": [],
   "source": []
  },
  {
   "cell_type": "code",
   "execution_count": null,
   "id": "d66f94e1",
   "metadata": {},
   "outputs": [],
   "source": []
  },
  {
   "cell_type": "code",
   "execution_count": null,
   "id": "958dc7b5",
   "metadata": {},
   "outputs": [],
   "source": []
  },
  {
   "cell_type": "code",
   "execution_count": null,
   "id": "6ee4def0",
   "metadata": {},
   "outputs": [],
   "source": []
  }
 ],
 "metadata": {
  "kernelspec": {
   "display_name": "Python 3",
   "language": "python",
   "name": "python3"
  },
  "language_info": {
   "codemirror_mode": {
    "name": "ipython",
    "version": 3
   },
   "file_extension": ".py",
   "mimetype": "text/x-python",
   "name": "python",
   "nbconvert_exporter": "python",
   "pygments_lexer": "ipython3",
   "version": "3.12.9"
  }
 },
 "nbformat": 4,
 "nbformat_minor": 5
}
