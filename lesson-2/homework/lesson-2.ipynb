{
 "cells": [
  {
   "cell_type": "code",
   "execution_count": 2,
   "id": "33cb1a67",
   "metadata": {},
   "outputs": [
    {
     "name": "stdout",
     "output_type": "stream",
     "text": [
      "My name is Alex , and I am 24 years old\n"
     ]
    }
   ],
   "source": [
    "#1. Write a Python program to ask for a user's name and year of birth, then calculate and display their age.\n",
    "\n",
    "name= 'Alex'\n",
    "age = 24\n",
    "\n",
    "print (f'My name is {name} , and I am {age} years old')"
   ]
  },
  {
   "cell_type": "code",
   "execution_count": 3,
   "id": "f013155a",
   "metadata": {},
   "outputs": [
    {
     "data": {
      "text/plain": [
       "'Malibu'"
      ]
     },
     "execution_count": 3,
     "metadata": {},
     "output_type": "execute_result"
    }
   ],
   "source": [
    "#2. Extract car names from the following text\n",
    "\n",
    "txt = 'LMaasleitbtui'\n",
    "\n",
    "txt[1: :2]"
   ]
  },
  {
   "cell_type": "code",
   "execution_count": 13,
   "id": "248d149c",
   "metadata": {},
   "outputs": [
    {
     "data": {
      "text/plain": [
       "'Damas'"
      ]
     },
     "execution_count": 13,
     "metadata": {},
     "output_type": "execute_result"
    }
   ],
   "source": [
    "#3. Extract car names from the following text:\n",
    "\n",
    "txt = 'MsaatmiazD'\n",
    "\n",
    "txt[-1::-2]"
   ]
  },
  {
   "cell_type": "code",
   "execution_count": null,
   "id": "cfc91b6f",
   "metadata": {},
   "outputs": [
    {
     "name": "stdout",
     "output_type": "stream",
     "text": [
      "[\"I'am John. I am \", ' London']\n"
     ]
    }
   ],
   "source": [
    "#4. Extract the residence area from the following text:\n",
    "\n",
    "txt = \"I'am John. I am from London\"\n",
    "x=txt.split('from')[1]\n",
    "print(x)"
   ]
  },
  {
   "cell_type": "code",
   "execution_count": 25,
   "id": "b23a06e2",
   "metadata": {},
   "outputs": [
    {
     "name": "stdout",
     "output_type": "stream",
     "text": [
      "sdrawkcab ekil skool txet siht woh rednow I\n"
     ]
    }
   ],
   "source": [
    "#5. Write a Python program that takes a user input string and prints it in reverse order.\n",
    "\n",
    "def my_function(x):\n",
    "    return x [::-1]\n",
    "mytxt = my_function(\"I wonder how this text looks like backwards\")\n",
    "print (mytxt)\n"
   ]
  },
  {
   "cell_type": "code",
   "execution_count": null,
   "id": "0437a2f7",
   "metadata": {},
   "outputs": [
    {
     "name": "stdout",
     "output_type": "stream",
     "text": [
      "The number of vowels in ASADBEK are 3\n"
     ]
    }
   ],
   "source": [
    "#6. Write a Python program that counts the number of vowels in a given string\n",
    "\n",
    "words=input(str('Enter the wrod here'))\n",
    "vowels=('a','o','e','i','u')\n",
    "number=0\n",
    "for word in words:\n",
    "    if word.lower() in vowels:\n",
    "       number+=1\n",
    "print(f\"The number of vowels in {words} are {number}\")\n"
   ]
  },
  {
   "cell_type": "code",
   "execution_count": 5,
   "id": "758244e0",
   "metadata": {},
   "outputs": [
    {
     "name": "stdout",
     "output_type": "stream",
     "text": [
      "76\n"
     ]
    }
   ],
   "source": [
    "#7.Write a Python program that takes a list of numbers as input and prints the maximum value.\n",
    "\n",
    "a = [10, 24, 76, 23, 12]\n",
    "\n",
    "# Max() will return the largest in 'a'\n",
    "largest = max(a)\n",
    "print(largest)\n"
   ]
  },
  {
   "cell_type": "code",
   "execution_count": 10,
   "id": "f7b09617",
   "metadata": {},
   "outputs": [
    {
     "name": "stdout",
     "output_type": "stream",
     "text": [
      "'racecar' is a palindrome: True\n",
      "'A man, a plan, a canal: Panama' is a palindrome: True\n",
      "'hello' is a palindrome: False\n"
     ]
    }
   ],
   "source": [
    "#8. Write a Python program that checks if a given word is a palindrome (reads the same forward and backward).\n",
    "\n",
    "def is_palindrome(word):\n",
    "    \"\"\"\n",
    "    Checks if a word is a palindrome.\n",
    "\n",
    "    Args:\n",
    "      word: The word to check.\n",
    "\n",
    "    Returns:\n",
    "      True if the word is a palindrome, False otherwise.\n",
    "    \"\"\"\n",
    "    processed_word = ''.join(filter(str.isalnum, word)).lower()\n",
    "    return processed_word == processed_word[::-1]\n",
    "\n",
    "# Example usage\n",
    "word1 = \"racecar\"\n",
    "word2 = \"A man, a plan, a canal: Panama\"\n",
    "word3 = \"hello\"\n",
    "\n",
    "print(f\"'{word1}' is a palindrome: {is_palindrome(word1)}\")\n",
    "print(f\"'{word2}' is a palindrome: {is_palindrome(word2)}\")\n",
    "print(f\"'{word3}' is a palindrome: {is_palindrome(word3)}\")\n"
   ]
  },
  {
   "cell_type": "code",
   "execution_count": 24,
   "id": "f56226a4",
   "metadata": {},
   "outputs": [
    {
     "name": "stdout",
     "output_type": "stream",
     "text": [
      "example.com\n"
     ]
    }
   ],
   "source": [
    "#9. Write a Python program that extracts and prints the domain from an email address provided by the user.\n",
    "\n",
    "email = \"user@example.com\"\n",
    "\n",
    "# Splitting the email string at the '@' symbol and accessing the second part (domain)\n",
    "domain = email.split('@')[1]\n",
    "\n",
    "print(domain)"
   ]
  },
  {
   "cell_type": "code",
   "execution_count": 29,
   "id": "5dde8d55",
   "metadata": {},
   "outputs": [
    {
     "name": "stdout",
     "output_type": "stream",
     "text": [
      ",teq~#)dD5\n"
     ]
    }
   ],
   "source": [
    "#10. Write a Python program to generate a random password containing letters, digits, and special characters.\n",
    "\n",
    "import random\n",
    "import string\n",
    "\n",
    "# Generate a random password of length 10 without duplicates\n",
    "def generate_password(length):\n",
    "    characters = string.ascii_letters + string.digits + string.punctuation\n",
    "    return ''.join(random.sample(characters, length))\n",
    "\n",
    "\n",
    "password = generate_password(10)\n",
    "print(password)"
   ]
  },
  {
   "cell_type": "code",
   "execution_count": null,
   "id": "7e5dd73e",
   "metadata": {},
   "outputs": [],
   "source": []
  }
 ],
 "metadata": {
  "kernelspec": {
   "display_name": "Python 3",
   "language": "python",
   "name": "python3"
  },
  "language_info": {
   "codemirror_mode": {
    "name": "ipython",
    "version": 3
   },
   "file_extension": ".py",
   "mimetype": "text/x-python",
   "name": "python",
   "nbconvert_exporter": "python",
   "pygments_lexer": "ipython3",
   "version": "3.12.9"
  }
 },
 "nbformat": 4,
 "nbformat_minor": 5
}
