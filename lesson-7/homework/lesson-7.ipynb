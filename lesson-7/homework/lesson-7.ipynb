{
 "cells": [
  {
   "cell_type": "code",
   "execution_count": 1,
   "id": "35d1a17e",
   "metadata": {},
   "outputs": [],
   "source": [
    "#1. is_prime(n) funksiyasi\n",
    "\n",
    "def is_prime(number):\n",
    "    if number <= 1:\n",
    "        return False\n",
    "    for i in range(2, int(number**0.5) + 1):\n",
    "        if number % i == 0:\n",
    "            return False\n",
    "    return True"
   ]
  },
  {
   "cell_type": "code",
   "execution_count": 2,
   "id": "be74b7c8",
   "metadata": {},
   "outputs": [
    {
     "name": "stdout",
     "output_type": "stream",
     "text": [
      "False\n"
     ]
    }
   ],
   "source": [
    "print(is_prime(4))"
   ]
  },
  {
   "cell_type": "code",
   "execution_count": 3,
   "id": "6c97881b",
   "metadata": {},
   "outputs": [],
   "source": [
    "#2. digit_sum(k) funksiyasi\n",
    "\n",
    "def sum_digits3(n):\n",
    "   r = 0\n",
    "   while n:\n",
    "       r, n = r + n % 10, n // 10\n",
    "   return r"
   ]
  },
  {
   "cell_type": "code",
   "execution_count": 4,
   "id": "285a0b14",
   "metadata": {},
   "outputs": [
    {
     "name": "stdout",
     "output_type": "stream",
     "text": [
      "12\n"
     ]
    }
   ],
   "source": [
    "print(sum_digits3(156))"
   ]
  },
  {
   "cell_type": "code",
   "execution_count": 5,
   "id": "5aa31ccb",
   "metadata": {},
   "outputs": [],
   "source": [
    "#3. Ikki sonning darajalari\n",
    "\n",
    "def print_powers_of_two(N):\n",
    "    k = 2\n",
    "    while k <= N:\n",
    "        print(k, end=' ')\n",
    "        k *= 2"
   ]
  },
  {
   "cell_type": "code",
   "execution_count": 7,
   "id": "34e67b9a",
   "metadata": {},
   "outputs": [
    {
     "name": "stdout",
     "output_type": "stream",
     "text": [
      "2 4 8 16 "
     ]
    }
   ],
   "source": [
    "N = int(input(\"Enter N : \"))\n",
    "print_powers_of_two(N)"
   ]
  },
  {
   "cell_type": "code",
   "execution_count": null,
   "id": "97b175de",
   "metadata": {},
   "outputs": [],
   "source": []
  },
  {
   "cell_type": "code",
   "execution_count": null,
   "id": "6b03ca65",
   "metadata": {},
   "outputs": [],
   "source": []
  },
  {
   "cell_type": "code",
   "execution_count": null,
   "id": "c126d13f",
   "metadata": {},
   "outputs": [],
   "source": []
  },
  {
   "cell_type": "code",
   "execution_count": null,
   "id": "e373d1b1",
   "metadata": {},
   "outputs": [],
   "source": []
  },
  {
   "cell_type": "code",
   "execution_count": null,
   "id": "8adf8959",
   "metadata": {},
   "outputs": [],
   "source": []
  },
  {
   "cell_type": "code",
   "execution_count": null,
   "id": "3d2d11cd",
   "metadata": {},
   "outputs": [],
   "source": []
  },
  {
   "cell_type": "code",
   "execution_count": null,
   "id": "35bdd626",
   "metadata": {},
   "outputs": [],
   "source": []
  }
 ],
 "metadata": {
  "kernelspec": {
   "display_name": "Python 3",
   "language": "python",
   "name": "python3"
  },
  "language_info": {
   "codemirror_mode": {
    "name": "ipython",
    "version": 3
   },
   "file_extension": ".py",
   "mimetype": "text/x-python",
   "name": "python",
   "nbconvert_exporter": "python",
   "pygments_lexer": "ipython3",
   "version": "3.12.9"
  }
 },
 "nbformat": 4,
 "nbformat_minor": 5
}
