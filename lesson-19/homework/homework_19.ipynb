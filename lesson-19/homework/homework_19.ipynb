{
 "cells": [
  {
   "cell_type": "markdown",
   "id": "4da07e4a",
   "metadata": {},
   "source": [
    "### Homework Assignment 1: Analyzing Sales Data"
   ]
  },
  {
   "cell_type": "code",
   "execution_count": 1,
   "id": "e62296f5",
   "metadata": {},
   "outputs": [],
   "source": [
    "import pandas as pd \n",
    "import numpy as np "
   ]
  },
  {
   "cell_type": "code",
   "execution_count": 2,
   "id": "65bb46d6",
   "metadata": {},
   "outputs": [
    {
     "data": {
      "text/html": [
       "<div>\n",
       "<style scoped>\n",
       "    .dataframe tbody tr th:only-of-type {\n",
       "        vertical-align: middle;\n",
       "    }\n",
       "\n",
       "    .dataframe tbody tr th {\n",
       "        vertical-align: top;\n",
       "    }\n",
       "\n",
       "    .dataframe thead th {\n",
       "        text-align: right;\n",
       "    }\n",
       "</style>\n",
       "<table border=\"1\" class=\"dataframe\">\n",
       "  <thead>\n",
       "    <tr style=\"text-align: right;\">\n",
       "      <th></th>\n",
       "      <th>Date</th>\n",
       "      <th>Product</th>\n",
       "      <th>Category</th>\n",
       "      <th>Quantity</th>\n",
       "      <th>Price</th>\n",
       "    </tr>\n",
       "  </thead>\n",
       "  <tbody>\n",
       "    <tr>\n",
       "      <th>0</th>\n",
       "      <td>2023-01-01</td>\n",
       "      <td>Laptop</td>\n",
       "      <td>Electronics</td>\n",
       "      <td>10</td>\n",
       "      <td>800</td>\n",
       "    </tr>\n",
       "    <tr>\n",
       "      <th>1</th>\n",
       "      <td>2023-01-01</td>\n",
       "      <td>T-Shirt</td>\n",
       "      <td>Clothing</td>\n",
       "      <td>5</td>\n",
       "      <td>20</td>\n",
       "    </tr>\n",
       "    <tr>\n",
       "      <th>2</th>\n",
       "      <td>2023-01-02</td>\n",
       "      <td>Smartphone</td>\n",
       "      <td>Electronics</td>\n",
       "      <td>8</td>\n",
       "      <td>400</td>\n",
       "    </tr>\n",
       "    <tr>\n",
       "      <th>3</th>\n",
       "      <td>2023-01-02</td>\n",
       "      <td>Coffee Maker</td>\n",
       "      <td>Home</td>\n",
       "      <td>12</td>\n",
       "      <td>50</td>\n",
       "    </tr>\n",
       "    <tr>\n",
       "      <th>4</th>\n",
       "      <td>2023-01-03</td>\n",
       "      <td>Jeans</td>\n",
       "      <td>Clothing</td>\n",
       "      <td>15</td>\n",
       "      <td>30</td>\n",
       "    </tr>\n",
       "  </tbody>\n",
       "</table>\n",
       "</div>"
      ],
      "text/plain": [
       "         Date       Product     Category  Quantity  Price\n",
       "0  2023-01-01        Laptop  Electronics        10    800\n",
       "1  2023-01-01       T-Shirt     Clothing         5     20\n",
       "2  2023-01-02    Smartphone  Electronics         8    400\n",
       "3  2023-01-02  Coffee Maker         Home        12     50\n",
       "4  2023-01-03         Jeans     Clothing        15     30"
      ]
     },
     "execution_count": 2,
     "metadata": {},
     "output_type": "execute_result"
    }
   ],
   "source": [
    "df=pd.read_csv(r\"C:\\Users\\Musaffa\\Downloads\\Telegram Desktop\\sales_data.csv\")\n",
    "df.head()"
   ]
  },
  {
   "cell_type": "code",
   "execution_count": 4,
   "id": "c6e42631",
   "metadata": {},
   "outputs": [
    {
     "name": "stdout",
     "output_type": "stream",
     "text": [
      "             Quantity\n",
      "Category             \n",
      "Clothing          157\n",
      "Electronics       183\n",
      "Home              144\n"
     ]
    }
   ],
   "source": [
    "#1. \n",
    "\n",
    "result=df.groupby('Category').agg({'Quantity': 'sum'})\n",
    "print(result)"
   ]
  },
  {
   "cell_type": "code",
   "execution_count": 5,
   "id": "1c18d493",
   "metadata": {},
   "outputs": [
    {
     "name": "stdout",
     "output_type": "stream",
     "text": [
      "                  Price\n",
      "Category               \n",
      "Clothing      31.176471\n",
      "Electronics  276.764706\n",
      "Home          55.000000\n"
     ]
    }
   ],
   "source": [
    "Avg_price=df.groupby('Category').agg({'Price': 'mean'})\n",
    "print(Avg_price)"
   ]
  },
  {
   "cell_type": "code",
   "execution_count": null,
   "id": "c16255ff",
   "metadata": {},
   "outputs": [
    {
     "name": "stdout",
     "output_type": "stream",
     "text": [
      "             Quantity\n",
      "Category             \n",
      "Clothing           15\n",
      "Electronics        15\n",
      "Home               14\n"
     ]
    }
   ],
   "source": [
    "max_quant=df.groupby('Category').agg({'Quantity': 'max'})\n",
    "print(max_quant)"
   ]
  },
  {
   "cell_type": "code",
   "execution_count": 19,
   "id": "0b34023d",
   "metadata": {},
   "outputs": [
    {
     "name": "stdout",
     "output_type": "stream",
     "text": [
      "                             Quantity\n",
      "Category    Product                  \n",
      "Clothing    Jeans                  15\n",
      "Electronics Soundbar               15\n",
      "Home        Pressure Cooker        14\n"
     ]
    }
   ],
   "source": [
    "#2. Identify the top-selling product in each category based on the total quantity sold.\n",
    "\n",
    "result=df.groupby(['Category', 'Product']).agg({'Quantity' : 'sum'})\n",
    "\n",
    "top_products=result.sort_values('Quantity', ascending=False).groupby('Category'). head(1)\n",
    "print(top_products)"
   ]
  },
  {
   "cell_type": "code",
   "execution_count": 28,
   "id": "ec978792",
   "metadata": {},
   "outputs": [
    {
     "name": "stdout",
     "output_type": "stream",
     "text": [
      "            Sales\n",
      "Date             \n",
      "2023-01-07  15000\n"
     ]
    }
   ],
   "source": [
    "#3. Find the date on which the highest total sales (quantity * price) occurred.\n",
    "\n",
    "df['Date']= pd.to_datetime(df['Date'])\n",
    "df['Sales']=df['Quantity'] * df['Price']\n",
    "\n",
    "result=df.groupby('Date').agg({'Sales' : 'max'})\n",
    "max_sales= result.sort_values('Sales', ascending=False).groupby('Date').head(1)\n",
    "print(max_sales.head(1))\n"
   ]
  },
  {
   "cell_type": "markdown",
   "id": "d4a08a31",
   "metadata": {},
   "source": [
    "### Homework Assignment 2: Examining Customer Orders"
   ]
  },
  {
   "cell_type": "code",
   "execution_count": 30,
   "id": "74be0ef9",
   "metadata": {},
   "outputs": [
    {
     "data": {
      "text/html": [
       "<div>\n",
       "<style scoped>\n",
       "    .dataframe tbody tr th:only-of-type {\n",
       "        vertical-align: middle;\n",
       "    }\n",
       "\n",
       "    .dataframe tbody tr th {\n",
       "        vertical-align: top;\n",
       "    }\n",
       "\n",
       "    .dataframe thead th {\n",
       "        text-align: right;\n",
       "    }\n",
       "</style>\n",
       "<table border=\"1\" class=\"dataframe\">\n",
       "  <thead>\n",
       "    <tr style=\"text-align: right;\">\n",
       "      <th></th>\n",
       "      <th>OrderID</th>\n",
       "      <th>CustomerID</th>\n",
       "      <th>Product</th>\n",
       "      <th>Quantity</th>\n",
       "      <th>Price</th>\n",
       "    </tr>\n",
       "  </thead>\n",
       "  <tbody>\n",
       "    <tr>\n",
       "      <th>0</th>\n",
       "      <td>1</td>\n",
       "      <td>101</td>\n",
       "      <td>Laptop</td>\n",
       "      <td>2</td>\n",
       "      <td>800</td>\n",
       "    </tr>\n",
       "    <tr>\n",
       "      <th>1</th>\n",
       "      <td>2</td>\n",
       "      <td>102</td>\n",
       "      <td>Headphones</td>\n",
       "      <td>1</td>\n",
       "      <td>150</td>\n",
       "    </tr>\n",
       "    <tr>\n",
       "      <th>2</th>\n",
       "      <td>3</td>\n",
       "      <td>103</td>\n",
       "      <td>Smartphone</td>\n",
       "      <td>3</td>\n",
       "      <td>400</td>\n",
       "    </tr>\n",
       "    <tr>\n",
       "      <th>3</th>\n",
       "      <td>4</td>\n",
       "      <td>101</td>\n",
       "      <td>External Hard Drive</td>\n",
       "      <td>2</td>\n",
       "      <td>80</td>\n",
       "    </tr>\n",
       "    <tr>\n",
       "      <th>4</th>\n",
       "      <td>5</td>\n",
       "      <td>102</td>\n",
       "      <td>Backpack</td>\n",
       "      <td>1</td>\n",
       "      <td>40</td>\n",
       "    </tr>\n",
       "  </tbody>\n",
       "</table>\n",
       "</div>"
      ],
      "text/plain": [
       "   OrderID  CustomerID              Product  Quantity  Price\n",
       "0        1         101               Laptop         2    800\n",
       "1        2         102           Headphones         1    150\n",
       "2        3         103           Smartphone         3    400\n",
       "3        4         101  External Hard Drive         2     80\n",
       "4        5         102             Backpack         1     40"
      ]
     },
     "execution_count": 30,
     "metadata": {},
     "output_type": "execute_result"
    }
   ],
   "source": [
    "df=pd.read_csv(r\"C:\\Users\\Musaffa\\Downloads\\Telegram Desktop\\customer_orders.csv\")\n",
    "df.head()"
   ]
  },
  {
   "cell_type": "code",
   "execution_count": null,
   "id": "12567af9",
   "metadata": {},
   "outputs": [
    {
     "name": "stdout",
     "output_type": "stream",
     "text": [
      "    OrderID  CustomerID                 Product  Quantity  Price\n",
      "0         1         101                  Laptop         2    800\n",
      "1         2         102              Headphones         1    150\n",
      "3         4         101     External Hard Drive         2     80\n",
      "4         5         102                Backpack         1     40\n",
      "6         7         101          Wireless Mouse         1     25\n",
      "8         9         102                Smart TV         1   1000\n",
      "13       14         101              Sunglasses         1     15\n",
      "14       15         102                 Blender         2     60\n",
      "18       19         101          Gaming Console         1    400\n",
      "19       20         102            Summer Dress         2     30\n",
      "23       24         101             Cargo Pants         2     30\n",
      "24       25         102               Desk Lamp         1     25\n",
      "28       29         101            Denim Jacket         1     45\n",
      "29       30         102            Casual Shoes         1     30\n",
      "33       34         101            Formal Shirt         2     35\n",
      "34       35         102                   Jeans         1     30\n",
      "38       39         101         Fitness Tracker         1     60\n",
      "39       40         102                 Toaster         1     25\n",
      "43       44         101              Sweatshirt         2     35\n",
      "44       45         102                Backpack         1     40\n",
      "48       49         101              Sunglasses         1     15\n",
      "49       50         102          Wireless Mouse         1     25\n",
      "53       54         101     External Hard Drive         1     80\n",
      "54       55         102              Smartphone         2    400\n",
      "58       59         101            Casual Shoes         1     30\n",
      "59       60         102                 Blender         1     60\n",
      "63       64         101            Coffee Maker         1     50\n",
      "64       65         102            Formal Shirt         2     35\n",
      "68       69         101  Point-and-Shoot Camera         1    250\n",
      "69       70         102            Summer Dress         1     30\n",
      "73       74         101             Sport Shoes         1     40\n",
      "74       75         102                   Drone         1    300\n",
      "78       79         101               Bookshelf         1     80\n",
      "79       80         102            Denim Jacket         1     45\n",
      "83       84         101        Wireless Speaker         1     70\n",
      "84       85         102              Desk Chair         1     75\n",
      "88       89         101            Coffee Maker         1     50\n",
      "89       90         102                Backpack         1     40\n",
      "93       94         101              Sunglasses         1     15\n",
      "94       95         102         Fitness Tracker         1     60\n",
      "98       99         101        Wireless Earbuds         2    120\n",
      "99      100         102          Gaming Console         1    400\n"
     ]
    }
   ],
   "source": [
    "result=df.groupby('CustomerID')['Quantity'].count()\n",
    "under_20= result[result < 20].index\n",
    "filtered_df= df[df['CustomerID']. isin(under_20)]\n",
    "print(filtered_df)"
   ]
  },
  {
   "cell_type": "code",
   "execution_count": 45,
   "id": "f49fd0e4",
   "metadata": {},
   "outputs": [
    {
     "name": "stdout",
     "output_type": "stream",
     "text": [
      "                 Price\n",
      "CustomerID            \n",
      "101         110.714286\n",
      "102         138.095238\n",
      "103          72.000000\n",
      "104         169.750000\n",
      "105          85.277778\n",
      "                 Price\n",
      "CustomerID            \n",
      "101                NaN\n",
      "102         138.095238\n",
      "103                NaN\n",
      "104         169.750000\n",
      "105                NaN\n"
     ]
    }
   ],
   "source": [
    "#2. Identify customers who have ordered products with an average price per unit greater than $120.\n",
    "\n",
    "result=df.groupby('CustomerID').agg({'Price': 'mean'})\n",
    "print(result)\n",
    "filtered_df=result[result>120]\n",
    "print(filtered_df)"
   ]
  },
  {
   "cell_type": "code",
   "execution_count": 49,
   "id": "67924d39",
   "metadata": {},
   "outputs": [
    {
     "name": "stdout",
     "output_type": "stream",
     "text": [
      "                   Quantity  Price\n",
      "Product                           \n",
      "Backpack                  4    160\n",
      "Blender                   4    180\n",
      "Blu-ray Player            2    140\n",
      "Bluetooth Headset         2    100\n",
      "Bookshelf                 2    160\n",
      "                        Quantity  Price\n",
      "Product                                \n",
      "Backpack                       4    160\n",
      "Blender                        4    180\n",
      "Blu-ray Player                 2    140\n",
      "Bluetooth Headset              2    100\n",
      "Bookshelf                      2    160\n",
      "Casual Shoes                   3     90\n",
      "Coffee Maker                   3    150\n",
      "Coffee Table                   3    200\n",
      "Comforter Set                  3    135\n",
      "Cookware Set                   1     60\n",
      "Denim Jacket                   2     90\n",
      "Denim Skirt                    1     25\n",
      "Desk Chair                     2    150\n",
      "Desk Lamp                      2     50\n",
      "Drone                          2    600\n",
      "External Hard Drive            3    160\n",
      "Fitness Tracker                3    180\n",
      "Formal Shoes                   3    180\n",
      "Gaming Console                 3   1200\n",
      "Headphones                     1    150\n",
      "Hoodie                         2     50\n",
      "Jeans                          3     90\n",
      "Kitchen Scale                  1     20\n",
      "Laptop                         2    800\n",
      "Point-and-Shoot Camera         2    500\n",
      "Projector                      2    400\n",
      "Smart TV                       3   3000\n",
      "Sneakers                       3    100\n",
      "Steam Iron                     3     60\n",
      "Summer Dress                   3     60\n",
      "Sweater                        3     70\n",
      "Sweatshirt                     2     35\n",
      "Tablet                         2    300\n",
      "Toaster                        3     50\n",
      "Wireless Charger               2     70\n",
      "Wireless Mouse                 3     75\n",
      "Wireless Speaker               2    140\n"
     ]
    }
   ],
   "source": [
    "#3. Find the total quantity and total price for each product ordered, and filter out products that have a total quantity less than 5 units.\n",
    "\n",
    "result=df.groupby('Product'). agg({'Quantity' : 'sum', 'Price' :'sum'})\n",
    "print(result.head())\n",
    "\n",
    "filtered_df=result[result['Quantity'] < 5]\n",
    "print(filtered_df)"
   ]
  },
  {
   "cell_type": "code",
   "execution_count": 1,
   "id": "4e986ca5",
   "metadata": {},
   "outputs": [],
   "source": [
    "import sqlite3\n",
    "import pandas as pd "
   ]
  },
  {
   "cell_type": "markdown",
   "id": "8eabf0ee",
   "metadata": {},
   "source": [
    "#### Homework Assignment 3: Population Salary Analysis"
   ]
  },
  {
   "cell_type": "code",
   "execution_count": 3,
   "id": "7cdce5eb",
   "metadata": {},
   "outputs": [],
   "source": [
    "conn = sqlite3.connect(\"population.db\")\n",
    "population_df = pd.read_sql_query(\"SELECT * FROM population\", conn)"
   ]
  },
  {
   "cell_type": "code",
   "execution_count": 5,
   "id": "3569bb4e",
   "metadata": {},
   "outputs": [],
   "source": [
    "salary_bands = pd.DataFrame({\n",
    "    'Salary Band': ['Low', 'Medium', 'High', 'Very High'],\n",
    "    'Min': [0, 50000, 100000, 150000],\n",
    "    'Max': [49999, 99999, 149999, float('inf')]\n",
    "})\n"
   ]
  },
  {
   "cell_type": "code",
   "execution_count": 6,
   "id": "549a1333",
   "metadata": {},
   "outputs": [],
   "source": [
    "def classify_salary(salary):\n",
    "    for _, row in salary_bands.iterrows():\n",
    "        if row['Min'] <= salary <= row['Max']:\n",
    "            return row['Salary Band']\n",
    "    return 'Unknown'"
   ]
  },
  {
   "cell_type": "code",
   "execution_count": 7,
   "id": "19d5c006",
   "metadata": {},
   "outputs": [],
   "source": [
    "population_df['Salary Band'] = population_df['salary'].apply(classify_salary)"
   ]
  },
  {
   "cell_type": "code",
   "execution_count": 8,
   "id": "b60767bf",
   "metadata": {},
   "outputs": [],
   "source": [
    "state_summary = population_df.groupby(['state', 'Salary Band']).agg(\n",
    "    Population=('salary', 'count'),\n",
    "    Average_Salary=('salary', 'mean'),\n",
    "    Median_Salary=('salary', 'median')\n",
    ").reset_index()"
   ]
  },
  {
   "cell_type": "code",
   "execution_count": 9,
   "id": "8568133b",
   "metadata": {},
   "outputs": [],
   "source": [
    "state_totals = population_df.groupby('state')['salary'].count().rename('TotalStatePop').reset_index()\n",
    "state_summary = state_summary.merge(state_totals, on='state')\n",
    "state_summary['Percentage'] = (state_summary['Population'] / state_summary['TotalStatePop']) * 100\n",
    "state_summary.drop(columns='TotalStatePop', inplace=True)"
   ]
  },
  {
   "cell_type": "code",
   "execution_count": 10,
   "id": "682dc6e5",
   "metadata": {},
   "outputs": [],
   "source": [
    "state_summary.to_excel(\"state_salary_band_analysis.xlsx\", index=False)"
   ]
  },
  {
   "cell_type": "code",
   "execution_count": 11,
   "id": "a043eb17",
   "metadata": {},
   "outputs": [
    {
     "name": "stdout",
     "output_type": "stream",
     "text": [
      "     state Salary Band  Population  Average_Salary  Median_Salary  Percentage\n",
      "0  Alabama        High          10    1.264651e+05       122833.0    4.065041\n",
      "1  Alabama         Low           2    2.580350e+04        25803.5    0.813008\n",
      "2  Alabama      Medium           3    7.713900e+04        78730.0    1.219512\n",
      "3  Alabama   Very High         231    1.031691e+06      1053186.0   93.902439\n",
      "4   Alaska        High           2    1.277575e+05       127757.5    3.703704\n",
      "5   Alaska         Low           2    4.878500e+03         4878.5    3.703704\n",
      "6   Alaska   Very High          50    1.079418e+06      1062679.5   92.592593\n",
      "7  Arizona        High           6    1.270102e+05       130715.0    2.371542\n",
      "8  Arizona         Low           6    2.029317e+04        23208.0    2.371542\n",
      "9  Arizona      Medium          10    7.577330e+04        70621.5    3.952569\n"
     ]
    }
   ],
   "source": [
    "print(state_summary.head(10))"
   ]
  },
  {
   "cell_type": "code",
   "execution_count": null,
   "id": "6eacc4c1",
   "metadata": {},
   "outputs": [],
   "source": []
  },
  {
   "cell_type": "code",
   "execution_count": null,
   "id": "9bc8e567",
   "metadata": {},
   "outputs": [],
   "source": []
  },
  {
   "cell_type": "code",
   "execution_count": null,
   "id": "a9867185",
   "metadata": {},
   "outputs": [],
   "source": []
  },
  {
   "cell_type": "code",
   "execution_count": null,
   "id": "682e18d5",
   "metadata": {},
   "outputs": [],
   "source": []
  },
  {
   "cell_type": "code",
   "execution_count": null,
   "id": "1119bb6f",
   "metadata": {},
   "outputs": [],
   "source": []
  },
  {
   "cell_type": "code",
   "execution_count": null,
   "id": "17947e4e",
   "metadata": {},
   "outputs": [],
   "source": []
  },
  {
   "cell_type": "code",
   "execution_count": null,
   "id": "5b8f7e72",
   "metadata": {},
   "outputs": [],
   "source": []
  }
 ],
 "metadata": {
  "kernelspec": {
   "display_name": ".venv",
   "language": "python",
   "name": "python3"
  },
  "language_info": {
   "codemirror_mode": {
    "name": "ipython",
    "version": 3
   },
   "file_extension": ".py",
   "mimetype": "text/x-python",
   "name": "python",
   "nbconvert_exporter": "python",
   "pygments_lexer": "ipython3",
   "version": "3.12.9"
  }
 },
 "nbformat": 4,
 "nbformat_minor": 5
}
