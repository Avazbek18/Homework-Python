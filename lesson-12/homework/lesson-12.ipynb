{
 "cells": [
  {
   "cell_type": "code",
   "execution_count": 3,
   "id": "7dafb408",
   "metadata": {},
   "outputs": [
    {
     "name": "stdout",
     "output_type": "stream",
     "text": [
      "17 is prime:True\n",
      "27 is prime:False\n",
      "23 is prime:True\n",
      "31 is prime:True\n",
      "49 is prime:False\n",
      "53 is prime:True\n"
     ]
    }
   ],
   "source": [
    "import threading \n",
    "\n",
    "def is_prime_threaded(number,result,thread_id):\n",
    "    if number <=1:\n",
    "        result[thread_id]=False \n",
    "        return \n",
    "\n",
    "    for i in range(2, int(number**0.5)+1):\n",
    "        if number % i==0:\n",
    "           result[thread_id]=False\n",
    "           return \n",
    "    result [thread_id]=True\n",
    "\n",
    "def main():\n",
    "    numbers_to_check =[17,27,23,31,49,53]\n",
    "    num_threads=4\n",
    "    results=[False]*len(numbers_to_check)\n",
    "    threads=[]\n",
    "\n",
    "    for i , number in enumerate(numbers_to_check):\n",
    "        thread=threading. Thread(target=is_prime_threaded, args=(number,results,i))\n",
    "        threads.append(thread)\n",
    "        thread.start()\n",
    "\n",
    "    for thread in threads:\n",
    "        thread.join()\n",
    "    for i,number in enumerate(numbers_to_check):\n",
    "        print(f'{number} is prime:{results[i]}')\n",
    "\n",
    "if __name__=='__main__':\n",
    "    main()\n",
    "\n",
    "\n"
   ]
  },
  {
   "cell_type": "code",
   "execution_count": null,
   "id": "a606ce2f",
   "metadata": {},
   "outputs": [],
   "source": []
  },
  {
   "cell_type": "code",
   "execution_count": 6,
   "id": "eb459606",
   "metadata": {},
   "outputs": [
    {
     "name": "stdout",
     "output_type": "stream",
     "text": [
      "File '1' not found.\n"
     ]
    }
   ],
   "source": [
    "import threading\n",
    "from collections import Counter\n",
    "import os\n",
    "\n",
    "# Function for each thread to count words in a subset of lines\n",
    "def count_words(lines, result_list, index):\n",
    "    word_counter = Counter()\n",
    "    for line in lines:\n",
    "        words = line.strip().lower().split()\n",
    "        word_counter.update(words)\n",
    "    result_list[index] = word_counter\n",
    "\n",
    "# Main function\n",
    "def main():\n",
    "    filename = input(\"Enter the filename: \")\n",
    "    num_threads = int(input(\"Enter number of threads: \"))\n",
    "\n",
    "    if not os.path.exists(filename):\n",
    "        print(f\"File '{filename}' not found.\")\n",
    "        return\n",
    "\n",
    "    # Read all lines from the file\n",
    "    with open(filename, 'r', encoding='utf-8') as file:\n",
    "        lines = file.readlines()\n",
    "\n",
    "    total_lines = len(lines)\n",
    "    chunk_size = total_lines // num_threads\n",
    "    threads = []\n",
    "    results = [None] * num_threads\n",
    "\n",
    "    for i in range(num_threads):\n",
    "        start_index = i * chunk_size\n",
    "        end_index = (i + 1) * chunk_size if i != num_threads - 1 else total_lines\n",
    "        thread = threading.Thread(target=count_words, args=(lines[start_index:end_index], results, i))\n",
    "        threads.append(thread)\n",
    "        thread.start()\n",
    "\n",
    "    # Wait for all threads to finish\n",
    "    for thread in threads:\n",
    "        thread.join()\n",
    "\n",
    "    # Merge all Counter results\n",
    "    final_counter = Counter()\n",
    "    for word_counter in results:\n",
    "        final_counter.update(word_counter)\n",
    "\n",
    "    # Print results sorted by most common words\n",
    "    print(\"\\nWord Occurrences:\")\n",
    "    for word, count in final_counter.most_common(20):  # Top 20 words\n",
    "        print(f\"{word}: {count}\")\n",
    "\n",
    "if __name__ == \"__main__\":\n",
    "    main()\n"
   ]
  },
  {
   "cell_type": "code",
   "execution_count": null,
   "id": "812eac02",
   "metadata": {},
   "outputs": [],
   "source": []
  },
  {
   "cell_type": "code",
   "execution_count": null,
   "id": "1f7cacf7",
   "metadata": {},
   "outputs": [],
   "source": []
  },
  {
   "cell_type": "code",
   "execution_count": null,
   "id": "593bc4bf",
   "metadata": {},
   "outputs": [],
   "source": []
  },
  {
   "cell_type": "code",
   "execution_count": null,
   "id": "aff86901",
   "metadata": {},
   "outputs": [],
   "source": []
  },
  {
   "cell_type": "code",
   "execution_count": null,
   "id": "7fc6a9eb",
   "metadata": {},
   "outputs": [],
   "source": []
  },
  {
   "cell_type": "code",
   "execution_count": null,
   "id": "709189cc",
   "metadata": {},
   "outputs": [],
   "source": []
  },
  {
   "cell_type": "code",
   "execution_count": null,
   "id": "dbab5800",
   "metadata": {},
   "outputs": [],
   "source": []
  },
  {
   "cell_type": "code",
   "execution_count": null,
   "id": "fc0aaad2",
   "metadata": {},
   "outputs": [],
   "source": []
  },
  {
   "cell_type": "code",
   "execution_count": null,
   "id": "4b98cb9a",
   "metadata": {},
   "outputs": [],
   "source": []
  },
  {
   "cell_type": "code",
   "execution_count": null,
   "id": "40b885d4",
   "metadata": {},
   "outputs": [],
   "source": []
  },
  {
   "cell_type": "code",
   "execution_count": null,
   "id": "2bc2ea16",
   "metadata": {},
   "outputs": [],
   "source": []
  },
  {
   "cell_type": "code",
   "execution_count": null,
   "id": "3b883ae3",
   "metadata": {},
   "outputs": [],
   "source": []
  },
  {
   "cell_type": "code",
   "execution_count": null,
   "id": "3e3d20a1",
   "metadata": {},
   "outputs": [],
   "source": []
  }
 ],
 "metadata": {
  "kernelspec": {
   "display_name": ".venv",
   "language": "python",
   "name": "python3"
  },
  "language_info": {
   "codemirror_mode": {
    "name": "ipython",
    "version": 3
   },
   "file_extension": ".py",
   "mimetype": "text/x-python",
   "name": "python",
   "nbconvert_exporter": "python",
   "pygments_lexer": "ipython3",
   "version": "3.12.9"
  }
 },
 "nbformat": 4,
 "nbformat_minor": 5
}
