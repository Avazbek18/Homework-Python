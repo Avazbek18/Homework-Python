{
 "cells": [
  {
   "cell_type": "code",
   "execution_count": 1,
   "id": "3c14792c",
   "metadata": {},
   "outputs": [],
   "source": [
    "import sqlite3\n",
    "import pandas as pd "
   ]
  },
  {
   "cell_type": "code",
   "execution_count": 2,
   "id": "9a8822d4",
   "metadata": {},
   "outputs": [],
   "source": [
    "conn=sqlite3.connect('chinook.db')"
   ]
  },
  {
   "cell_type": "code",
   "execution_count": 3,
   "id": "aa2cfd1c",
   "metadata": {},
   "outputs": [
    {
     "name": "stdout",
     "output_type": "stream",
     "text": [
      "             name\n",
      "0           Album\n",
      "1          Artist\n",
      "2        Customer\n",
      "3        Employee\n",
      "4           Genre\n",
      "5         Invoice\n",
      "6     InvoiceLine\n",
      "7       MediaType\n",
      "8        Playlist\n",
      "9   PlaylistTrack\n",
      "10          Track\n"
     ]
    }
   ],
   "source": [
    "tables=pd.read_sql(\"Select name From sqlite_master where type='table';\" , conn)\n",
    "print(tables)"
   ]
  },
  {
   "cell_type": "code",
   "execution_count": null,
   "id": "019a2999",
   "metadata": {},
   "outputs": [],
   "source": [
    "#1. Find the total amount spent by each customer on purchases (considering invoices)."
   ]
  },
  {
   "cell_type": "code",
   "execution_count": 7,
   "id": "bc3eeb63",
   "metadata": {},
   "outputs": [
    {
     "name": "stdout",
     "output_type": "stream",
     "text": [
      "   CustomerId  FirstName  total_spent\n",
      "0           1       Luís        39.62\n",
      "1           2     Leonie        37.62\n",
      "2           3   François        39.62\n",
      "3           4      Bjørn        39.62\n",
      "4           5  František        40.62\n"
     ]
    }
   ],
   "source": [
    "query= \"\"\"\n",
    "SELECT c.customerId, c.FirstName, SUM(i.Total) AS total_spent\n",
    "FROM Customer c\n",
    "JOIN Invoice i ON c.customerId = i.customerId\n",
    "GROUP BY c.customerId, c.FirstName\n",
    "\"\"\"\n",
    "\n",
    "result=pd.read_sql(query, conn)\n",
    "print(result.head())"
   ]
  },
  {
   "cell_type": "code",
   "execution_count": 8,
   "id": "4955c437",
   "metadata": {},
   "outputs": [],
   "source": [
    "conn.close()"
   ]
  },
  {
   "cell_type": "code",
   "execution_count": 15,
   "id": "f6f170e3",
   "metadata": {},
   "outputs": [],
   "source": [
    "conn = sqlite3.connect('chinook.db')"
   ]
  },
  {
   "cell_type": "code",
   "execution_count": null,
   "id": "596d99a4",
   "metadata": {},
   "outputs": [
    {
     "name": "stdout",
     "output_type": "stream",
     "text": [
      "   CustomerId FirstName  total_spent\n",
      "0           6    Helena        49.62\n",
      "1          26   Richard        47.62\n",
      "2          57      Luis        46.62\n",
      "3          45  Ladislav        45.62\n",
      "4          46      Hugh        45.62\n"
     ]
    }
   ],
   "source": [
    "#2. Identify the top 5 customers with the highest total purchase amounts.\n",
    "\n",
    "\n",
    "query= \"\"\"\n",
    "SELECT c.customerId, c.FirstName, SUM(i.Total) AS total_spent\n",
    "FROM Customer c\n",
    "JOIN Invoice i ON c.customerId = i.customerId\n",
    "GROUP BY c.customerId, c.FirstName\n",
    "order by total_spent desc\n",
    "Limit 5\n",
    "\"\"\"\n",
    "\n",
    "top_customers=pd.read_sql(query, conn)\n",
    "print(top_customers)\n",
    "\n",
    "conn.close()"
   ]
  },
  {
   "cell_type": "code",
   "execution_count": 17,
   "id": "684cd3ee",
   "metadata": {},
   "outputs": [
    {
     "name": "stdout",
     "output_type": "stream",
     "text": [
      "   CustomerId FirstName  total_spent\n",
      "0           6    Helena        49.62\n",
      "1          26   Richard        47.62\n",
      "2          57      Luis        46.62\n",
      "3          45  Ladislav        45.62\n",
      "4          46      Hugh        45.62\n"
     ]
    }
   ],
   "source": [
    "#3. Display the customer ID, name, and the total amount spent for the top 5 customers.\n",
    "\n",
    "\n",
    "conn = sqlite3.connect('chinook.db')\n",
    "\n",
    "query= \"\"\"\n",
    "SELECT c.customerId, c.FirstName, SUM(i.Total) AS total_spent\n",
    "FROM Customer c\n",
    "JOIN Invoice i ON c.customerId = i.customerId\n",
    "GROUP BY c.customerId, c.FirstName\n",
    "order by total_spent desc\n",
    "Limit 5\n",
    "\"\"\"\n",
    "\n",
    "top_customers=pd.read_sql(query, conn)\n",
    "print(top_customers)\n",
    "\n",
    "conn.close()"
   ]
  },
  {
   "cell_type": "code",
   "execution_count": 20,
   "id": "118cb007",
   "metadata": {},
   "outputs": [
    {
     "name": "stdout",
     "output_type": "stream",
     "text": [
      "             name\n",
      "0           Album\n",
      "1          Artist\n",
      "2        Customer\n",
      "3        Employee\n",
      "4           Genre\n",
      "5         Invoice\n",
      "6     InvoiceLine\n",
      "7       MediaType\n",
      "8        Playlist\n",
      "9   PlaylistTrack\n",
      "10          Track\n"
     ]
    }
   ],
   "source": [
    "tables=pd.read_sql(\"Select name From sqlite_master where type='table';\" , conn)\n",
    "print(tables)"
   ]
  },
  {
   "cell_type": "markdown",
   "id": "3ce8396d",
   "metadata": {},
   "source": [
    "#### Album vs. Individual Track Purchases:"
   ]
  },
  {
   "cell_type": "code",
   "execution_count": 18,
   "id": "bd4b22c2",
   "metadata": {},
   "outputs": [],
   "source": [
    "#Determine the percentage of customers who prefer to buy individual tracks instead of full albums.\n",
    "\n",
    "import sqlite3\n",
    "import pandas as pd"
   ]
  },
  {
   "cell_type": "code",
   "execution_count": 19,
   "id": "fa387f32",
   "metadata": {},
   "outputs": [],
   "source": [
    "conn = sqlite3.connect('chinook.db')"
   ]
  },
  {
   "cell_type": "code",
   "execution_count": 23,
   "id": "3bc263a2",
   "metadata": {},
   "outputs": [],
   "source": [
    "query= \"\"\"\n",
    "with cte1 as (\n",
    "Select AlbumId, COUNT(*) as total_tracks\n",
    "from Track\n",
    "group by AlbumId\n",
    "), \n",
    "\n",
    "cte2 as (\n",
    "Select il.InvoiceId, t.AlbumId, count(*) as tracks_bought\n",
    "from InvoiceLine il\n",
    "join Track t on il.TrackId=t.TrackId\n",
    "group by il.InvoiceId, t.AlbumId\n",
    "),\n",
    "\n",
    "cte3 as (\n",
    "Select i.CustomerId\n",
    "from cte2 c2\n",
    "join cte1 c1\n",
    "on c2.AlbumId=c1.AlbumId\n",
    "join Invoice i on i.InvoiceId= c2.InvoiceId\n",
    "where c2.tracks_bought=c1.total_tracks\n",
    "group by i.CustomerId\n",
    "), \n",
    "cte4 as (\n",
    "Select CustomerId from Customer\n",
    ")\n",
    "\n",
    "Select \n",
    "round(100.0 * \n",
    "(Select count(*) from cte4 where CustomerId not in (Select CustomerId from cte3))\n",
    "/\n",
    "(Select count(*) from cte4), 2\n",
    ") as percent_track_buyers\n",
    "\n",
    "\"\"\""
   ]
  },
  {
   "cell_type": "code",
   "execution_count": 24,
   "id": "1e739bab",
   "metadata": {},
   "outputs": [
    {
     "name": "stdout",
     "output_type": "stream",
     "text": [
      "   percent_track_buyers\n",
      "0                 64.41\n"
     ]
    }
   ],
   "source": [
    "percentage=pd.read_sql(query, conn)\n",
    "print(percentage)\n",
    "conn.close()"
   ]
  },
  {
   "cell_type": "code",
   "execution_count": 32,
   "id": "e3fd95de",
   "metadata": {},
   "outputs": [],
   "source": [
    "query = \"\"\"\n",
    "\n",
    "WITH AlbumTrackCounts AS (\n",
    "    SELECT AlbumId, COUNT(*) AS total_tracks\n",
    "    FROM Track\n",
    "    GROUP BY AlbumId\n",
    "),\n",
    "InvoiceAlbumTrackCounts AS (\n",
    "    SELECT i.InvoiceId, c.CustomerId, t.AlbumId, COUNT(*) AS tracks_bought\n",
    "    FROM InvoiceLine il\n",
    "    JOIN Track t ON il.TrackId = t.TrackId\n",
    "    JOIN Invoice i ON il.InvoiceId = i.InvoiceId\n",
    "    JOIN Customer c ON i.CustomerId = c.CustomerId\n",
    "    GROUP BY i.InvoiceId, c.CustomerId, t.AlbumId\n",
    "),\n",
    "FullAlbumPurchases AS (\n",
    "    SELECT DISTINCT CustomerId\n",
    "    FROM InvoiceAlbumTrackCounts iatc\n",
    "    JOIN AlbumTrackCounts atc ON iatc.AlbumId = atc.AlbumId\n",
    "    WHERE iatc.tracks_bought = atc.total_tracks\n",
    "),\n",
    "CustomerPreference AS (\n",
    "    SELECT \n",
    "        c.CustomerId,\n",
    "        CASE \n",
    "            WHEN fap.CustomerId IS NOT NULL THEN 'album_buyers'\n",
    "            ELSE 'track_buyers'\n",
    "        END AS preference\n",
    "    FROM Customer c\n",
    "    LEFT JOIN FullAlbumPurchases fap ON c.CustomerId = fap.CustomerId\n",
    "),\n",
    "Summary AS (\n",
    "    SELECT \n",
    "        preference,\n",
    "        COUNT(*) AS customer_count\n",
    "    FROM CustomerPreference\n",
    "    GROUP BY preference\n",
    ")\n",
    "SELECT \n",
    "    preference,\n",
    "    customer_count,\n",
    "    ROUND(100.0 * customer_count / (SELECT COUNT(*) FROM Customer), 2) AS percentage\n",
    "FROM Summary\n",
    "ORDER BY percentage DESC;\n",
    "\n",
    "\n",
    "\n",
    "\"\"\""
   ]
  },
  {
   "cell_type": "code",
   "execution_count": 31,
   "id": "7e63ec0f",
   "metadata": {},
   "outputs": [],
   "source": [
    "import sqlite3\n",
    "import pandas as pd\n",
    "\n",
    "conn = sqlite3.connect('chinook.db')\n",
    "\n",
    "\n",
    "\n"
   ]
  },
  {
   "cell_type": "code",
   "execution_count": 33,
   "id": "7ad089eb",
   "metadata": {},
   "outputs": [
    {
     "name": "stdout",
     "output_type": "stream",
     "text": [
      "     preference  customer_count  percentage\n",
      "0  track_buyers              38       64.41\n",
      "1  album_buyers              21       35.59\n"
     ]
    }
   ],
   "source": [
    "summary = pd.read_sql(query, conn)\n",
    "print(summary)\n",
    "\n",
    "conn.close()"
   ]
  },
  {
   "cell_type": "code",
   "execution_count": null,
   "id": "09bcecc6",
   "metadata": {},
   "outputs": [],
   "source": []
  },
  {
   "cell_type": "code",
   "execution_count": null,
   "id": "dc252213",
   "metadata": {},
   "outputs": [],
   "source": []
  },
  {
   "cell_type": "code",
   "execution_count": null,
   "id": "01cf5b57",
   "metadata": {},
   "outputs": [],
   "source": []
  },
  {
   "cell_type": "code",
   "execution_count": null,
   "id": "254cc900",
   "metadata": {},
   "outputs": [],
   "source": []
  },
  {
   "cell_type": "code",
   "execution_count": null,
   "id": "b9d5e8ca",
   "metadata": {},
   "outputs": [],
   "source": []
  }
 ],
 "metadata": {
  "kernelspec": {
   "display_name": ".venv",
   "language": "python",
   "name": "python3"
  },
  "language_info": {
   "codemirror_mode": {
    "name": "ipython",
    "version": 3
   },
   "file_extension": ".py",
   "mimetype": "text/x-python",
   "name": "python",
   "nbconvert_exporter": "python",
   "pygments_lexer": "ipython3",
   "version": "3.12.9"
  }
 },
 "nbformat": 4,
 "nbformat_minor": 5
}
