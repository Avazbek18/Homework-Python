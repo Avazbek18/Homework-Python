{
 "cells": [
  {
   "cell_type": "code",
   "execution_count": 1,
   "id": "de89d98a",
   "metadata": {},
   "outputs": [
    {
     "name": "stdout",
     "output_type": "stream",
     "text": [
      "[ 12.23  13.32 100.    36.32]\n"
     ]
    }
   ],
   "source": [
    "#1. Convert List to 1D Array\n",
    "\n",
    "import numpy as np \n",
    "\n",
    "l=[12.23, 13.32, 100, 36.32]\n",
    "\n",
    "x=np.array(l)\n",
    "\n",
    "print(x)"
   ]
  },
  {
   "cell_type": "code",
   "execution_count": 3,
   "id": "225ef701",
   "metadata": {},
   "outputs": [
    {
     "name": "stdout",
     "output_type": "stream",
     "text": [
      "[[ 2  3  4]\n",
      " [ 5  6  7]\n",
      " [ 8  9 10]]\n"
     ]
    }
   ],
   "source": [
    "#2. Create 3x3 Matrix\n",
    "\n",
    "import numpy as np \n",
    "\n",
    "x=np.arange(2,11).reshape(3,3)\n",
    "\n",
    "print(x)"
   ]
  },
  {
   "cell_type": "code",
   "execution_count": 5,
   "id": "86bef7e2",
   "metadata": {},
   "outputs": [
    {
     "name": "stdout",
     "output_type": "stream",
     "text": [
      "[0. 0. 0. 0. 0. 0. 0. 0. 0. 0.]\n",
      "[ 0.  0.  0.  0.  0.  0. 11.  0.  0.  0.]\n"
     ]
    }
   ],
   "source": [
    "#3. Null Vector (10) & Update Sixth Value \n",
    "\n",
    "import numpy as np \n",
    "\n",
    "x=np.zeros(10)\n",
    "print(x)\n",
    "\n",
    "x[6]=11\n",
    "\n",
    "print(x)"
   ]
  },
  {
   "cell_type": "code",
   "execution_count": 7,
   "id": "5a5131b6",
   "metadata": {},
   "outputs": [
    {
     "name": "stdout",
     "output_type": "stream",
     "text": [
      "[12 13 14 15 16 17 18 19 20 21 22 23 24 25 26 27 28 29 30 31 32 33 34 35\n",
      " 36 37]\n"
     ]
    }
   ],
   "source": [
    "#4. Array from 12 to 38\n",
    "\n",
    "import numpy as np \n",
    "\n",
    "x=np.arange(12,38)\n",
    "print(x)"
   ]
  },
  {
   "cell_type": "code",
   "execution_count": 8,
   "id": "a4cb8449",
   "metadata": {},
   "outputs": [
    {
     "name": "stdout",
     "output_type": "stream",
     "text": [
      "[1. 2. 3. 4.]\n"
     ]
    }
   ],
   "source": [
    "#5. Convert Array to Float Type \n",
    "\n",
    "import numpy as np \n",
    "\n",
    "a=[1,2,3,4]\n",
    "\n",
    "x=np.asarray(a, dtype=float)\n",
    "\n",
    "print(x)"
   ]
  },
  {
   "cell_type": "code",
   "execution_count": 12,
   "id": "8a33af48",
   "metadata": {},
   "outputs": [
    {
     "name": "stdout",
     "output_type": "stream",
     "text": [
      "Values in Fahrenheit degrees:\n",
      "[ 0.   12.   45.21 34.   99.91]\n",
      "Values in  Centigrade degrees:\n",
      "[-17.78 -11.11   7.34   1.11  37.73]\n"
     ]
    }
   ],
   "source": [
    "#6. Celsius to Fahrenheit Conversion\n",
    "\n",
    "import numpy as np \n",
    "\n",
    "fvalues=[0, 12, 45.21, 34, 99.91]\n",
    "\n",
    "F=np.array(fvalues)\n",
    "print(\"Values in Fahrenheit degrees:\")\n",
    "print(F)\n",
    "\n",
    "print(\"Values in  Centigrade degrees:\")\n",
    "print(np.round((5*F/ 9- 5* 32/ 9), 2))"
   ]
  },
  {
   "cell_type": "code",
   "execution_count": 13,
   "id": "44dacfc1",
   "metadata": {},
   "outputs": [
    {
     "name": "stdout",
     "output_type": "stream",
     "text": [
      "[10 20 30 40 50 60 70 80 90]\n"
     ]
    }
   ],
   "source": [
    "#7. Append Values to Array\n",
    "\n",
    "import numpy as np \n",
    "\n",
    "x=[10,20,30]\n",
    "\n",
    "x=np.append(x, [[40,50,60], [70,80,90]])\n",
    "\n",
    "print(x)"
   ]
  },
  {
   "cell_type": "code",
   "execution_count": 15,
   "id": "b1c27fef",
   "metadata": {},
   "outputs": [
    {
     "name": "stdout",
     "output_type": "stream",
     "text": [
      "Random array: [0.61646943 0.5746858  0.70140909 0.69792486 0.33101982 0.24760552\n",
      " 0.14724362 0.94428874 0.92911677 0.29316568]\n",
      "Mean: 0.5482929315188707\n",
      "Median:0.5955776152322683\n",
      "STD: 0.26768813302384814\n"
     ]
    }
   ],
   "source": [
    "#8. Create a random NumPy array of 10 elements and calculate the mean, median, and standard deviation of the array.\n",
    "\n",
    "import numpy as np \n",
    "\n",
    "random_array=np.random.rand(10)\n",
    "print(f'Random array: {random_array}')\n",
    "\n",
    "mean_value=np.mean(random_array)\n",
    "print(f'Mean: {mean_value}')\n",
    "\n",
    "median_value=np.median(random_array)\n",
    "print(f'Median:{median_value}')\n",
    "\n",
    "std_value=np.std(random_array)\n",
    "print(f'STD: {std_value}')\n"
   ]
  },
  {
   "cell_type": "code",
   "execution_count": 16,
   "id": "f56cd2f1",
   "metadata": {},
   "outputs": [
    {
     "name": "stdout",
     "output_type": "stream",
     "text": [
      "Random 10x10 array:\n",
      " [[0.22736179 0.23220002 0.20883215 0.58792936 0.42643226 0.2705611\n",
      "  0.82287083 0.70277532 0.01372379 0.39424113]\n",
      " [0.43880665 0.05608622 0.54667553 0.96384215 0.48867463 0.10348439\n",
      "  0.29863564 0.30451673 0.77814057 0.27810905]\n",
      " [0.64543537 0.43162492 0.66779157 0.63986985 0.75413938 0.35313948\n",
      "  0.12840104 0.70985236 0.01996593 0.03886073]\n",
      " [0.44899438 0.92853541 0.41435822 0.15068352 0.86794842 0.05070213\n",
      "  0.37366928 0.0757885  0.24050793 0.86569836]\n",
      " [0.13267878 0.20288171 0.08179951 0.98567444 0.68788907 0.54372985\n",
      "  0.32467359 0.45398916 0.35116387 0.78560149]\n",
      " [0.55928916 0.30687521 0.14508636 0.72209715 0.18024703 0.85879475\n",
      "  0.59628097 0.19369864 0.67222947 0.359357  ]\n",
      " [0.12942704 0.22108929 0.63668455 0.22983731 0.63959786 0.04919286\n",
      "  0.91290561 0.60939484 0.23474311 0.69504708]\n",
      " [0.43916938 0.46921569 0.49603474 0.97125482 0.74814515 0.81415422\n",
      "  0.34530552 0.00733398 0.57879135 0.71512871]\n",
      " [0.71075758 0.82729316 0.23882699 0.52565803 0.91150795 0.29444779\n",
      "  0.81112299 0.56520766 0.2060578  0.97673823]\n",
      " [0.46316915 0.07673154 0.12199048 0.46299746 0.08303257 0.19108256\n",
      "  0.51402066 0.39245553 0.74325765 0.62001834]]\n",
      "\n",
      "Min value: 0.007333984952465622\n",
      "Max value: 0.985674437595091\n"
     ]
    }
   ],
   "source": [
    "#9. Create a 10x10 array with random values and find the minimum and maximum values \n",
    "\n",
    "import numpy as np \n",
    "\n",
    "arr=np.random.rand(10, 10)\n",
    "\n",
    "min_val=np.min(arr)\n",
    "max_val=np.max(arr)\n",
    "\n",
    "print('Random 10x10 array:\\n', arr)\n",
    "print('\\nMin value:', min_val)\n",
    "print('Max value:', max_val)"
   ]
  },
  {
   "cell_type": "code",
   "execution_count": 17,
   "id": "61bfbb83",
   "metadata": {},
   "outputs": [
    {
     "name": "stdout",
     "output_type": "stream",
     "text": [
      "3x3x3 Random Array:\n",
      " [[[0.10408033 0.9995792  0.79554011]\n",
      "  [0.61843312 0.52889155 0.15963715]\n",
      "  [0.29387843 0.34328676 0.39956987]]\n",
      "\n",
      " [[0.28224493 0.32839336 0.50908536]\n",
      "  [0.51861955 0.63738617 0.14488642]\n",
      "  [0.09017504 0.02312385 0.98792993]]\n",
      "\n",
      " [[0.84940002 0.67365902 0.84566399]\n",
      "  [0.29955543 0.58188495 0.8756576 ]\n",
      "  [0.68849045 0.74202888 0.78683641]]]\n"
     ]
    }
   ],
   "source": [
    "#10. Create a 3x3x3 array with random values.\n",
    "\n",
    "import numpy as np \n",
    "\n",
    "arr=np.random.rand(3,3,3)\n",
    "\n",
    "print('3x3x3 Random Array:\\n', arr)"
   ]
  },
  {
   "cell_type": "code",
   "execution_count": null,
   "id": "cc7fbbc1",
   "metadata": {},
   "outputs": [],
   "source": []
  },
  {
   "cell_type": "code",
   "execution_count": null,
   "id": "a5569921",
   "metadata": {},
   "outputs": [],
   "source": []
  },
  {
   "cell_type": "code",
   "execution_count": null,
   "id": "b7e75245",
   "metadata": {},
   "outputs": [],
   "source": []
  },
  {
   "cell_type": "code",
   "execution_count": null,
   "id": "ba63a490",
   "metadata": {},
   "outputs": [],
   "source": []
  },
  {
   "cell_type": "code",
   "execution_count": null,
   "id": "9e3da7b5",
   "metadata": {},
   "outputs": [],
   "source": []
  },
  {
   "cell_type": "code",
   "execution_count": null,
   "id": "874e1809",
   "metadata": {},
   "outputs": [],
   "source": []
  },
  {
   "cell_type": "code",
   "execution_count": null,
   "id": "4817d166",
   "metadata": {},
   "outputs": [],
   "source": []
  },
  {
   "cell_type": "code",
   "execution_count": null,
   "id": "5e01ac7f",
   "metadata": {},
   "outputs": [],
   "source": []
  }
 ],
 "metadata": {
  "kernelspec": {
   "display_name": ".venv",
   "language": "python",
   "name": "python3"
  },
  "language_info": {
   "codemirror_mode": {
    "name": "ipython",
    "version": 3
   },
   "file_extension": ".py",
   "mimetype": "text/x-python",
   "name": "python",
   "nbconvert_exporter": "python",
   "pygments_lexer": "ipython3",
   "version": "3.12.9"
  }
 },
 "nbformat": 4,
 "nbformat_minor": 5
}
