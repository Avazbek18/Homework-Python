{
 "cells": [
  {
   "cell_type": "markdown",
   "id": "aa6508d4",
   "metadata": {},
   "source": [
    "### Lists and Tuples"
   ]
  },
  {
   "cell_type": "code",
   "execution_count": 1,
   "id": "44e67c12",
   "metadata": {},
   "outputs": [],
   "source": [
    "#1. Create a list containing five different fruits and print the third fruit.\n",
    "\n",
    "l1=['apple','banana','orange','kiwi', 'granate']"
   ]
  },
  {
   "cell_type": "code",
   "execution_count": 2,
   "id": "eebfcc53",
   "metadata": {},
   "outputs": [
    {
     "data": {
      "text/plain": [
       "'kiwi'"
      ]
     },
     "execution_count": 2,
     "metadata": {},
     "output_type": "execute_result"
    }
   ],
   "source": [
    "l1[3]"
   ]
  },
  {
   "cell_type": "code",
   "execution_count": 10,
   "id": "e53ce6f9",
   "metadata": {},
   "outputs": [],
   "source": [
    "#2. Create two lists of numbers and concatenate them into a single list.\n",
    "\n",
    "l1=[1,2,3,5]\n",
    "l2=[3,4,True, 'home']"
   ]
  },
  {
   "cell_type": "code",
   "execution_count": null,
   "id": "f8901bfb",
   "metadata": {},
   "outputs": [],
   "source": [
    "l1.extend(l2)"
   ]
  },
  {
   "cell_type": "code",
   "execution_count": 13,
   "id": "36e7c7bf",
   "metadata": {},
   "outputs": [
    {
     "name": "stdout",
     "output_type": "stream",
     "text": [
      "[1, 2, 3, 5, 3, 4, True, 'home']\n"
     ]
    }
   ],
   "source": [
    "print(l1)"
   ]
  },
  {
   "cell_type": "code",
   "execution_count": 14,
   "id": "1a168d2a",
   "metadata": {},
   "outputs": [],
   "source": [
    "#3. Given a list of numbers, extract the first, middle, and last elements and store them in a new list.\n",
    "\n",
    "l1=[1,2,3, 'Applied', [1,2,2], 'modeule', 100,200]"
   ]
  },
  {
   "cell_type": "code",
   "execution_count": 17,
   "id": "b4007761",
   "metadata": {},
   "outputs": [],
   "source": [
    "first_element= l1[0]\n",
    "last_element=l1[-1]\n",
    "middle_element=l1[len(l1)//2]"
   ]
  },
  {
   "cell_type": "code",
   "execution_count": 18,
   "id": "4ff48a82",
   "metadata": {},
   "outputs": [],
   "source": [
    "new_list=[first_element,middle_element,last_element]"
   ]
  },
  {
   "cell_type": "code",
   "execution_count": 19,
   "id": "89f6cc76",
   "metadata": {},
   "outputs": [
    {
     "name": "stdout",
     "output_type": "stream",
     "text": [
      "[1, [1, 2, 2], 200]\n"
     ]
    }
   ],
   "source": [
    "print(new_list)"
   ]
  },
  {
   "cell_type": "code",
   "execution_count": 27,
   "id": "e9ad9ce0",
   "metadata": {},
   "outputs": [],
   "source": [
    "#4. Create a list of your five favorite movies and convert it into a tuple.\n",
    "\n",
    "movies_list=['The Shawshank Redemption','Avengers:Infinity War','Breaking Bad', 'Game of Thrones'\n",
    " 'Fight club']"
   ]
  },
  {
   "cell_type": "code",
   "execution_count": 28,
   "id": "763b8239",
   "metadata": {},
   "outputs": [],
   "source": [
    "it=tuple(movies_list)"
   ]
  },
  {
   "cell_type": "code",
   "execution_count": 29,
   "id": "81b4da91",
   "metadata": {},
   "outputs": [
    {
     "name": "stdout",
     "output_type": "stream",
     "text": [
      "('The Shawshank Redemption', 'Avengers:Infinity War', 'Breaking Bad', 'Game of ThronesFight club')\n"
     ]
    }
   ],
   "source": [
    "print (it)"
   ]
  },
  {
   "cell_type": "code",
   "execution_count": 36,
   "id": "e948696a",
   "metadata": {},
   "outputs": [],
   "source": [
    "#5. Given a list of cities, check if \"Paris\" is in the list and print the result.\n",
    "\n",
    "citties_list=['London','Paris','New York', 'Istanbul', 'Dubai', 'Baku','Tokio']"
   ]
  },
  {
   "cell_type": "code",
   "execution_count": 37,
   "id": "1409558f",
   "metadata": {},
   "outputs": [
    {
     "name": "stdout",
     "output_type": "stream",
     "text": [
      "True\n"
     ]
    }
   ],
   "source": [
    "print('Paris' in citties_list)"
   ]
  },
  {
   "cell_type": "code",
   "execution_count": 38,
   "id": "9dccd4b6",
   "metadata": {},
   "outputs": [],
   "source": [
    "#6. Create a list of numbers and duplicate it without using loops.\n",
    "\n",
    "list=[1,2,12,13,23]"
   ]
  },
  {
   "cell_type": "code",
   "execution_count": 39,
   "id": "a794de22",
   "metadata": {},
   "outputs": [],
   "source": [
    "mylist=list.copy()"
   ]
  },
  {
   "cell_type": "code",
   "execution_count": 40,
   "id": "04ee57d2",
   "metadata": {},
   "outputs": [
    {
     "name": "stdout",
     "output_type": "stream",
     "text": [
      "[1, 2, 12, 13, 23]\n"
     ]
    }
   ],
   "source": [
    "print(mylist)"
   ]
  },
  {
   "cell_type": "code",
   "execution_count": 41,
   "id": "aa735d15",
   "metadata": {},
   "outputs": [],
   "source": [
    "#7.Given a list of numbers, swap the first and last elements.\n",
    "\n",
    "a=[1,2,3,5,6,7,8,9]"
   ]
  },
  {
   "cell_type": "code",
   "execution_count": 42,
   "id": "649d6d22",
   "metadata": {},
   "outputs": [],
   "source": [
    "a[0],a[-1]=a[-1],a[0]"
   ]
  },
  {
   "cell_type": "code",
   "execution_count": 43,
   "id": "7cabc778",
   "metadata": {},
   "outputs": [
    {
     "name": "stdout",
     "output_type": "stream",
     "text": [
      "[9, 2, 3, 5, 6, 7, 8, 1]\n"
     ]
    }
   ],
   "source": [
    "print(a)"
   ]
  },
  {
   "cell_type": "code",
   "execution_count": 44,
   "id": "93cc6290",
   "metadata": {},
   "outputs": [],
   "source": [
    "#8. Create a tuple of numbers from 1 to 10 and print a slice from index 3 to 7.\n",
    "\n",
    "tuple=(1,2,3,4,5,6,7,8,9,10)"
   ]
  },
  {
   "cell_type": "code",
   "execution_count": 45,
   "id": "f8fd2cdf",
   "metadata": {},
   "outputs": [],
   "source": [
    "sliced_result=tuple[3:7]"
   ]
  },
  {
   "cell_type": "code",
   "execution_count": 46,
   "id": "dd1887ef",
   "metadata": {},
   "outputs": [
    {
     "name": "stdout",
     "output_type": "stream",
     "text": [
      "(4, 5, 6, 7)\n"
     ]
    }
   ],
   "source": [
    "print(sliced_result)"
   ]
  },
  {
   "cell_type": "code",
   "execution_count": 49,
   "id": "ff0cbb63",
   "metadata": {},
   "outputs": [],
   "source": [
    "#9.Create a list of colors and count how many times \"blue\" appears in the list.\n",
    "\n",
    "list_colors=['red','yellow','blue','black','white','blue']"
   ]
  },
  {
   "cell_type": "code",
   "execution_count": 50,
   "id": "64993645",
   "metadata": {},
   "outputs": [
    {
     "data": {
      "text/plain": [
       "2"
      ]
     },
     "execution_count": 50,
     "metadata": {},
     "output_type": "execute_result"
    }
   ],
   "source": [
    "list_colors.count('blue')"
   ]
  },
  {
   "cell_type": "code",
   "execution_count": 51,
   "id": "7d25c58a",
   "metadata": {},
   "outputs": [],
   "source": [
    "#10.Given a tuple of animals, find the index of \"lion\".\n",
    "\n",
    "animals_tuple=('lion', 'bear','giraffe','wolf', 'snake')"
   ]
  },
  {
   "cell_type": "code",
   "execution_count": 52,
   "id": "da955d1f",
   "metadata": {},
   "outputs": [],
   "source": [
    "index_of_lion=animals_tuple.index('lion')"
   ]
  },
  {
   "cell_type": "code",
   "execution_count": 53,
   "id": "b02e6b82",
   "metadata": {},
   "outputs": [
    {
     "name": "stdout",
     "output_type": "stream",
     "text": [
      "0\n"
     ]
    }
   ],
   "source": [
    "print(index_of_lion)"
   ]
  },
  {
   "cell_type": "code",
   "execution_count": 55,
   "id": "d08dfc14",
   "metadata": {},
   "outputs": [],
   "source": [
    "#11. Create two tuples of numbers and merge them into a single tuple\n",
    "\n",
    "tuple1=(1,2,3,4,5)\n",
    "tuple2=(2,4,6,8,0)"
   ]
  },
  {
   "cell_type": "code",
   "execution_count": 56,
   "id": "1e25db2a",
   "metadata": {},
   "outputs": [],
   "source": [
    "tuple3=tuple1+tuple2"
   ]
  },
  {
   "cell_type": "code",
   "execution_count": 57,
   "id": "7340e289",
   "metadata": {},
   "outputs": [
    {
     "name": "stdout",
     "output_type": "stream",
     "text": [
      "(1, 2, 3, 4, 5, 2, 4, 6, 8, 0)\n"
     ]
    }
   ],
   "source": [
    "print(tuple3)"
   ]
  },
  {
   "cell_type": "code",
   "execution_count": 61,
   "id": "274917e8",
   "metadata": {},
   "outputs": [],
   "source": [
    "#12. Given a list and a tuple, find and print their lengths\n",
    "\n",
    "my_list=[1,2,3,4]\n",
    "my_tuple=(1,2,3)"
   ]
  },
  {
   "cell_type": "code",
   "execution_count": 62,
   "id": "180d2b04",
   "metadata": {},
   "outputs": [
    {
     "name": "stdout",
     "output_type": "stream",
     "text": [
      "4\n"
     ]
    }
   ],
   "source": [
    "list_length=len(my_list)\n",
    "print(list_length)"
   ]
  },
  {
   "cell_type": "code",
   "execution_count": 63,
   "id": "99ae41a5",
   "metadata": {},
   "outputs": [
    {
     "name": "stdout",
     "output_type": "stream",
     "text": [
      "3\n"
     ]
    }
   ],
   "source": [
    "tuple_length=len(my_tuple)\n",
    "print(tuple_length)"
   ]
  },
  {
   "cell_type": "code",
   "execution_count": 66,
   "id": "160070d9",
   "metadata": {},
   "outputs": [
    {
     "name": "stdout",
     "output_type": "stream",
     "text": [
      "[1, 2, 3, 4]\n"
     ]
    }
   ],
   "source": [
    "#13.Create a tuple of five numbers and convert it into a list.\n",
    "\n",
    "tup=(1,2,3,4)\n",
    "a=[item for item in tup]\n",
    "print(a)"
   ]
  },
  {
   "cell_type": "code",
   "execution_count": 67,
   "id": "0968f040",
   "metadata": {},
   "outputs": [],
   "source": [
    "#14.Given a tuple of numbers, find and print the maximum and minimum values.\n",
    "\n",
    "numbers=(1,2,3,4,5,6,7,8,9,9)"
   ]
  },
  {
   "cell_type": "code",
   "execution_count": 68,
   "id": "d62220ac",
   "metadata": {},
   "outputs": [],
   "source": [
    "maximum = max(numbers)\n",
    "minimum = min(numbers)"
   ]
  },
  {
   "cell_type": "code",
   "execution_count": 69,
   "id": "0b4376ce",
   "metadata": {},
   "outputs": [
    {
     "name": "stdout",
     "output_type": "stream",
     "text": [
      "Maximum: 9\n",
      "Minimum: 1\n"
     ]
    }
   ],
   "source": [
    "print(\"Maximum:\", maximum)\n",
    "print(\"Minimum:\", minimum)"
   ]
  },
  {
   "cell_type": "code",
   "execution_count": 75,
   "id": "d32d3f39",
   "metadata": {},
   "outputs": [],
   "source": [
    "#15. Create a tuple of words and print it in reverse order.\n",
    "\n",
    "tup=('first','hello', 'salom', 'bye', 'xayr', 'last')"
   ]
  },
  {
   "cell_type": "code",
   "execution_count": 77,
   "id": "e7f8dac0",
   "metadata": {},
   "outputs": [],
   "source": [
    "rev=tup[::-1]"
   ]
  },
  {
   "cell_type": "code",
   "execution_count": 78,
   "id": "6ffa9ace",
   "metadata": {},
   "outputs": [
    {
     "name": "stdout",
     "output_type": "stream",
     "text": [
      "('last', 'xayr', 'bye', 'salom', 'hello', 'first')\n"
     ]
    }
   ],
   "source": [
    "print(rev)"
   ]
  },
  {
   "cell_type": "code",
   "execution_count": null,
   "id": "1d0eaa43",
   "metadata": {},
   "outputs": [],
   "source": []
  }
 ],
 "metadata": {
  "kernelspec": {
   "display_name": "Python 3",
   "language": "python",
   "name": "python3"
  },
  "language_info": {
   "codemirror_mode": {
    "name": "ipython",
    "version": 3
   },
   "file_extension": ".py",
   "mimetype": "text/x-python",
   "name": "python",
   "nbconvert_exporter": "python",
   "pygments_lexer": "ipython3",
   "version": "3.12.9"
  }
 },
 "nbformat": 4,
 "nbformat_minor": 5
}
