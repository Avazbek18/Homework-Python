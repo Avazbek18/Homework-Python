{
 "cells": [
  {
   "cell_type": "code",
   "execution_count": 5,
   "id": "57a571a4",
   "metadata": {},
   "outputs": [],
   "source": [
    "#1. Write a Python script to sort (ascending and descending) a dictionary by value\n",
    "\n",
    "d={'one':1, 'three':3,'five':5,'two':2,'four':4}"
   ]
  },
  {
   "cell_type": "code",
   "execution_count": 7,
   "id": "5e5f19bb",
   "metadata": {},
   "outputs": [
    {
     "name": "stdout",
     "output_type": "stream",
     "text": [
      "[('five', 5), ('four', 4), ('three', 3), ('two', 2), ('one', 1)]\n"
     ]
    }
   ],
   "source": [
    "a=sorted(d.items(), key=lambda x:x[1], reverse=True)\n",
    "\n",
    "print (a)"
   ]
  },
  {
   "cell_type": "code",
   "execution_count": 9,
   "id": "840fd07d",
   "metadata": {},
   "outputs": [],
   "source": [
    "#2.Write a Python script to add a key to a dictionary.\n",
    "\n",
    "d1={0: 10, 1: 20}"
   ]
  },
  {
   "cell_type": "code",
   "execution_count": 10,
   "id": "de800e32",
   "metadata": {},
   "outputs": [],
   "source": [
    "d1.update({2:30})"
   ]
  },
  {
   "cell_type": "code",
   "execution_count": 11,
   "id": "50dce81f",
   "metadata": {},
   "outputs": [
    {
     "name": "stdout",
     "output_type": "stream",
     "text": [
      "{0: 10, 1: 20, 2: 30}\n"
     ]
    }
   ],
   "source": [
    "print(d1)"
   ]
  },
  {
   "cell_type": "code",
   "execution_count": 12,
   "id": "244eee4a",
   "metadata": {},
   "outputs": [],
   "source": [
    "#3. Write a Python script to concatenate the following dictionaries to create a new one.\n",
    "\n",
    "dic1 = {1: 10, 2: 20}\n",
    "dic2 = {3: 30, 4: 40}\n",
    "dic3 = {5: 50, 6: 60}"
   ]
  },
  {
   "cell_type": "code",
   "execution_count": 13,
   "id": "31c192af",
   "metadata": {},
   "outputs": [],
   "source": [
    "dic4={}"
   ]
  },
  {
   "cell_type": "code",
   "execution_count": 14,
   "id": "54cbbca7",
   "metadata": {},
   "outputs": [
    {
     "name": "stdout",
     "output_type": "stream",
     "text": [
      "{1: 10, 2: 20, 3: 30, 4: 40, 5: 50, 6: 60}\n"
     ]
    }
   ],
   "source": [
    "for d in (dic1,dic2,dic3):\n",
    "    dic4.update(d)\n",
    "print(dic4)"
   ]
  },
  {
   "cell_type": "code",
   "execution_count": null,
   "id": "4a5cbdfd",
   "metadata": {},
   "outputs": [],
   "source": [
    "#4. Write a Python script to generate and print a dictionary that contains a number (between 1 and n) in the form (x, x*x).\n",
    "\n",
    " "
   ]
  },
  {
   "cell_type": "code",
   "execution_count": 16,
   "id": "72e266bf",
   "metadata": {},
   "outputs": [],
   "source": [
    "d=dict()"
   ]
  },
  {
   "cell_type": "code",
   "execution_count": 17,
   "id": "1fe5b863",
   "metadata": {},
   "outputs": [],
   "source": [
    "for x in range (1,5+1):\n",
    "    d[x]=x*x"
   ]
  },
  {
   "cell_type": "code",
   "execution_count": 18,
   "id": "d2a6e551",
   "metadata": {},
   "outputs": [
    {
     "name": "stdout",
     "output_type": "stream",
     "text": [
      "{1: 1, 2: 4, 3: 9, 4: 16, 5: 25}\n"
     ]
    }
   ],
   "source": [
    "print(d)"
   ]
  },
  {
   "cell_type": "code",
   "execution_count": 19,
   "id": "c85c8aa9",
   "metadata": {},
   "outputs": [],
   "source": [
    "#5. Write a Python script to print a dictionary where the keys are numbers between 1 and 15 (both included) and the values are the square of the keys.\n",
    "\n",
    "d=dict()"
   ]
  },
  {
   "cell_type": "code",
   "execution_count": 20,
   "id": "2196a842",
   "metadata": {},
   "outputs": [],
   "source": [
    "for x in range (1,16):\n",
    "    d[x]=x**2"
   ]
  },
  {
   "cell_type": "code",
   "execution_count": 21,
   "id": "6ef36f3b",
   "metadata": {},
   "outputs": [
    {
     "name": "stdout",
     "output_type": "stream",
     "text": [
      "{1: 1, 2: 4, 3: 9, 4: 16, 5: 25, 6: 36, 7: 49, 8: 64, 9: 81, 10: 100, 11: 121, 12: 144, 13: 169, 14: 196, 15: 225}\n"
     ]
    }
   ],
   "source": [
    "print(d)"
   ]
  },
  {
   "cell_type": "code",
   "execution_count": 22,
   "id": "5e7860b5",
   "metadata": {},
   "outputs": [],
   "source": [
    "#1. Write a Python program to create a set.\n",
    "\n",
    "n=set([0,1,2,3,4,5])"
   ]
  },
  {
   "cell_type": "code",
   "execution_count": 23,
   "id": "60847463",
   "metadata": {},
   "outputs": [
    {
     "name": "stdout",
     "output_type": "stream",
     "text": [
      "{0, 1, 2, 3, 4, 5}\n"
     ]
    }
   ],
   "source": [
    "print(n)"
   ]
  },
  {
   "cell_type": "code",
   "execution_count": 25,
   "id": "153fb29e",
   "metadata": {},
   "outputs": [],
   "source": [
    "#2. Write a Python program to iterate over sets.\n",
    "\n",
    "num_set=set([0,1,2,3,4,5])"
   ]
  },
  {
   "cell_type": "code",
   "execution_count": 26,
   "id": "dad5f196",
   "metadata": {},
   "outputs": [
    {
     "name": "stdout",
     "output_type": "stream",
     "text": [
      "0\n",
      "1\n",
      "2\n",
      "3\n",
      "4\n",
      "5\n"
     ]
    }
   ],
   "source": [
    "for n in num_set:\n",
    "    print(n)"
   ]
  },
  {
   "cell_type": "code",
   "execution_count": null,
   "id": "9097be21",
   "metadata": {},
   "outputs": [],
   "source": [
    "#3. Write a Python program to add member(s) to a set.\n",
    "\n",
    "color_set=set()"
   ]
  },
  {
   "cell_type": "code",
   "execution_count": 29,
   "id": "8d6533e0",
   "metadata": {},
   "outputs": [
    {
     "name": "stdout",
     "output_type": "stream",
     "text": [
      "{'Red'}\n"
     ]
    }
   ],
   "source": [
    "color_set.add('Red')\n",
    "print(color_set)"
   ]
  },
  {
   "cell_type": "code",
   "execution_count": 32,
   "id": "ce7ef401",
   "metadata": {},
   "outputs": [
    {
     "name": "stdout",
     "output_type": "stream",
     "text": [
      "{'Green', 'Red', 'Blue'}\n"
     ]
    }
   ],
   "source": [
    "color_set.update(['Blue', 'Green'])\n",
    "print (color_set)"
   ]
  },
  {
   "cell_type": "code",
   "execution_count": 33,
   "id": "85285607",
   "metadata": {},
   "outputs": [],
   "source": [
    "#4. Write a Python program to remove item(s) from a given set.\n",
    "\n",
    "num_set= set([0,1,2,3,4,5])"
   ]
  },
  {
   "cell_type": "code",
   "execution_count": 34,
   "id": "dad2f47a",
   "metadata": {},
   "outputs": [
    {
     "data": {
      "text/plain": [
       "0"
      ]
     },
     "execution_count": 34,
     "metadata": {},
     "output_type": "execute_result"
    }
   ],
   "source": [
    "num_set.pop()"
   ]
  },
  {
   "cell_type": "code",
   "execution_count": 40,
   "id": "f703826d",
   "metadata": {},
   "outputs": [
    {
     "name": "stdout",
     "output_type": "stream",
     "text": [
      "{2, 4, 5}\n"
     ]
    }
   ],
   "source": [
    "print(num_set)"
   ]
  },
  {
   "cell_type": "code",
   "execution_count": null,
   "id": "4a56b1e2",
   "metadata": {},
   "outputs": [],
   "source": [
    "#5. Write a Python program to remove an item from a set if it is present in the set.\n",
    "\n",
    "num_set= set([0,1,2,3,4,5])"
   ]
  },
  {
   "cell_type": "code",
   "execution_count": 39,
   "id": "3ea12714",
   "metadata": {},
   "outputs": [],
   "source": [
    "num_set.discard(3)"
   ]
  },
  {
   "cell_type": "code",
   "execution_count": 38,
   "id": "4a4d5b0a",
   "metadata": {},
   "outputs": [],
   "source": [
    "num_set.remove(1)"
   ]
  },
  {
   "cell_type": "code",
   "execution_count": null,
   "id": "3d9b8507",
   "metadata": {},
   "outputs": [],
   "source": [
    "print(num_set)"
   ]
  },
  {
   "cell_type": "code",
   "execution_count": null,
   "id": "a8b402bd",
   "metadata": {},
   "outputs": [],
   "source": []
  },
  {
   "cell_type": "code",
   "execution_count": null,
   "id": "e3368bef",
   "metadata": {},
   "outputs": [],
   "source": []
  }
 ],
 "metadata": {
  "kernelspec": {
   "display_name": "Python 3",
   "language": "python",
   "name": "python3"
  },
  "language_info": {
   "codemirror_mode": {
    "name": "ipython",
    "version": 3
   },
   "file_extension": ".py",
   "mimetype": "text/x-python",
   "name": "python",
   "nbconvert_exporter": "python",
   "pygments_lexer": "ipython3",
   "version": "3.12.9"
  }
 },
 "nbformat": 4,
 "nbformat_minor": 5
}
